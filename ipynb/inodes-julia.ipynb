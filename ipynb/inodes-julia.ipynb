{
 "cells": [
  {
   "cell_type": "markdown",
   "metadata": {},
   "source": [
    "# Bayesian inference via invertible neural networks"
   ]
  },
  {
   "cell_type": "code",
   "execution_count": 1,
   "metadata": {},
   "outputs": [],
   "source": [
    "using Flux, DiffEqFlux, DifferentialEquations\n",
    "using Flux: chunk, leakyrelu"
   ]
  },
  {
   "cell_type": "code",
   "execution_count": 2,
   "metadata": {},
   "outputs": [
    {
     "ename": "UndefVarError",
     "evalue": "UndefVarError: N not defined",
     "output_type": "error",
     "traceback": [
      "UndefVarError: N not defined",
      "",
      "Stacktrace:",
      " [1] top-level scope at In[2]:1"
     ]
    }
   ],
   "source": [
    "ndata = randn(N).*s .+ m"
   ]
  },
  {
   "cell_type": "code",
   "execution_count": 3,
   "metadata": {},
   "outputs": [
    {
     "data": {
      "text/plain": [
       "101-element Array{Float64,1}:\n",
       "  0.0\n",
       "  0.1\n",
       "  0.2\n",
       "  0.3\n",
       "  0.4\n",
       "  0.5\n",
       "  0.6\n",
       "  0.7\n",
       "  0.8\n",
       "  0.9\n",
       "  1.0\n",
       "  1.1\n",
       "  1.2\n",
       "  ⋮  \n",
       "  8.9\n",
       "  9.0\n",
       "  9.1\n",
       "  9.2\n",
       "  9.3\n",
       "  9.4\n",
       "  9.5\n",
       "  9.6\n",
       "  9.7\n",
       "  9.8\n",
       "  9.9\n",
       " 10.0"
      ]
     },
     "execution_count": 3,
     "metadata": {},
     "output_type": "execute_result"
    }
   ],
   "source": [
    "datasize = 100\n",
    "s = 5.\n",
    "m = 2.\n",
    "\n",
    "tspan = (0.0f0,10f0)\n",
    "x = collect(0.0:0.1:10.0)"
   ]
  },
  {
   "cell_type": "code",
   "execution_count": 4,
   "metadata": {},
   "outputs": [
    {
     "data": {
      "text/plain": [
       "inv_block (generic function with 1 method)"
      ]
     },
     "execution_count": 4,
     "metadata": {},
     "output_type": "execute_result"
    }
   ],
   "source": [
    "function inv_block(inp, out)\n",
    "    s1 = Dense(inp//2, out//2, leakyrelu)\n",
    "    s2 = Dense(inp//2, out//2, leakyrelu)\n",
    "    t1 = Dense(inp//2, out//2, leakyrelu)\n",
    "    t2 = Dense(inp//2, out//2, leakyrelu)\n",
    "    \n",
    "    function f(x)\n",
    "        xs = chunk(x, 2) \n",
    "        v1 = xs[1] .* exp.(s2(xs[1])) + t2(xs[2])\n",
    "        v2 = xs[2] .* exp.(s1(v1)) + t1(v1)          \n",
    "        return vcat(v1, v2)\n",
    "    end\n",
    "end"
   ]
  },
  {
   "cell_type": "code",
   "execution_count": 5,
   "metadata": {},
   "outputs": [
    {
     "data": {
      "text/plain": [
       "dudx (generic function with 1 method)"
      ]
     },
     "execution_count": 5,
     "metadata": {},
     "output_type": "execute_result"
    }
   ],
   "source": [
    "logfx(x) = (x .- m).^2 ./ s^2\n",
    "dudx(x) = -x.^2 ./ 2"
   ]
  },
  {
   "cell_type": "code",
   "execution_count": 6,
   "metadata": {},
   "outputs": [
    {
     "data": {
      "text/plain": [
       "n_ode (generic function with 1 method)"
      ]
     },
     "execution_count": 6,
     "metadata": {},
     "output_type": "execute_result"
    }
   ],
   "source": [
    "D = 50\n",
    "dFdt = Chain(Dense(1, D), Dense(D, 1))\n",
    "n_ode(x) = neural_ode(dFdt, x, tspan, Tsit5(), saveat=0.1, reltol=1e-7, abstol=1e-9)"
   ]
  },
  {
   "cell_type": "code",
   "execution_count": 7,
   "metadata": {},
   "outputs": [
    {
     "data": {
      "text/plain": [
       "Params([Float32[-0.0800767; -0.332212; … ; -0.266853; -0.174181] (tracked), Float32[0.0, 0.0, 0.0, 0.0, 0.0, 0.0, 0.0, 0.0, 0.0, 0.0  …  0.0, 0.0, 0.0, 0.0, 0.0, 0.0, 0.0, 0.0, 0.0, 0.0] (tracked), Float32[0.17269 0.00703886 … 0.0529437 -0.320592] (tracked), Float32[0.0] (tracked)])"
      ]
     },
     "execution_count": 7,
     "metadata": {},
     "output_type": "execute_result"
    }
   ],
   "source": [
    "ps = Flux.params(dFdt)"
   ]
  },
  {
   "cell_type": "code",
   "execution_count": 8,
   "metadata": {},
   "outputs": [
    {
     "data": {
      "text/plain": [
       "predict_n_ode (generic function with 1 method)"
      ]
     },
     "execution_count": 8,
     "metadata": {},
     "output_type": "execute_result"
    }
   ],
   "source": [
    "f0 = [0.0]\n",
    "function predict_n_ode()\n",
    "  n_ode(f0)\n",
    "end"
   ]
  },
  {
   "cell_type": "code",
   "execution_count": 9,
   "metadata": {},
   "outputs": [
    {
     "data": {
      "text/plain": [
       "Tracked 1-element Array{Float32,1}:\n",
       " 0.0f0"
      ]
     },
     "execution_count": 9,
     "metadata": {},
     "output_type": "execute_result"
    }
   ],
   "source": [
    "dFdt([0.0])"
   ]
  },
  {
   "cell_type": "code",
   "execution_count": 19,
   "metadata": {},
   "outputs": [
    {
     "data": {
      "text/plain": [
       "101-element Array{Float64,1}:\n",
       " 0.16                \n",
       " 0.1444              \n",
       " 0.12960000000000002 \n",
       " 0.11559999999999998 \n",
       " 0.10240000000000002 \n",
       " 0.09                \n",
       " 0.07839999999999998 \n",
       " 0.06760000000000001 \n",
       " 0.0576              \n",
       " 0.048400000000000006\n",
       " 0.04                \n",
       " 0.03239999999999999 \n",
       " 0.025600000000000005\n",
       " ⋮                   \n",
       " 1.9044000000000003  \n",
       " 1.96                \n",
       " 2.0164              \n",
       " 2.0735999999999994  \n",
       " 2.1316000000000006  \n",
       " 2.1904000000000003  \n",
       " 2.25                \n",
       " 2.3104              \n",
       " 2.3715999999999995  \n",
       " 2.4336              \n",
       " 2.4964              \n",
       " 2.56                "
      ]
     },
     "execution_count": 19,
     "metadata": {},
     "output_type": "execute_result"
    }
   ],
   "source": [
    "logfx(x)"
   ]
  },
  {
   "cell_type": "code",
   "execution_count": 11,
   "metadata": {},
   "outputs": [
    {
     "data": {
      "text/plain": [
       "loss_n_ode (generic function with 1 method)"
      ]
     },
     "execution_count": 11,
     "metadata": {},
     "output_type": "execute_result"
    }
   ],
   "source": [
    "loss_n_ode() = sum(abs2, (logfx(x) / dudx(x)) .-  predict_n_ode())"
   ]
  },
  {
   "cell_type": "code",
   "execution_count": 12,
   "metadata": {},
   "outputs": [
    {
     "data": {
      "text/plain": [
       "0.0021123849710817507 (tracked)"
      ]
     },
     "execution_count": 12,
     "metadata": {},
     "output_type": "execute_result"
    }
   ],
   "source": [
    "loss_n_ode()"
   ]
  },
  {
   "cell_type": "code",
   "execution_count": 13,
   "metadata": {},
   "outputs": [],
   "source": [
    "opt = ADAM(0.1)\n",
    "data = Iterators.repeated((), 100)\n",
    "Flux.train!(loss_n_ode, ps, data, opt)"
   ]
  },
  {
   "cell_type": "code",
   "execution_count": 14,
   "metadata": {},
   "outputs": [
    {
     "data": {
      "text/plain": [
       "7251.233494565905 (tracked)"
      ]
     },
     "metadata": {},
     "output_type": "display_data"
    }
   ],
   "source": [
    "display(loss_n_ode())"
   ]
  },
  {
   "cell_type": "code",
   "execution_count": 17,
   "metadata": {},
   "outputs": [
    {
     "data": {
      "text/plain": [
       "#6 (generic function with 1 method)"
      ]
     },
     "execution_count": 17,
     "metadata": {},
     "output_type": "execute_result"
    }
   ],
   "source": [
    "cb = function () # callback function to observe training\n",
    "  display(loss_n_ode())\n",
    "  # plot current prediction against data\n",
    "  cur_pred = Flux.data(predict_n_ode())\n",
    "  pl = scatter(t,data[1,:], label=\"data\")\n",
    "  scatter!(pl,t,cur_pred[1,:], label=\"prediction\")\n",
    "  display(plot(pl))\n",
    "end"
   ]
  },
  {
   "cell_type": "code",
   "execution_count": 20,
   "metadata": {},
   "outputs": [
    {
     "data": {
      "text/plain": [
       "1×101 Array{Float64,2}:\n",
       " 0.0  0.0617754  0.119572  0.173645  …  0.957648  0.957739  0.957823"
      ]
     },
     "execution_count": 20,
     "metadata": {},
     "output_type": "execute_result"
    }
   ],
   "source": [
    "cur_pred = Flux.data(predict_n_ode())"
   ]
  },
  {
   "cell_type": "code",
   "execution_count": 32,
   "metadata": {},
   "outputs": [],
   "source": [
    "using Distributions"
   ]
  },
  {
   "cell_type": "code",
   "execution_count": 34,
   "metadata": {},
   "outputs": [
    {
     "data": {
      "text/plain": [
       "Normal{Float64}(μ=2.0, σ=5.0)"
      ]
     },
     "execution_count": 34,
     "metadata": {},
     "output_type": "execute_result"
    }
   ],
   "source": [
    "d = Normal(m, s)"
   ]
  },
  {
   "cell_type": "code",
   "execution_count": 46,
   "metadata": {},
   "outputs": [
    {
     "name": "stderr",
     "output_type": "stream",
     "text": [
      "┌ Warning: `cdf(d::UnivariateDistribution, X::AbstractArray)` is deprecated, use `cdf.(d, X)` instead.\n",
      "│   caller = top-level scope at In[46]:1\n",
      "└ @ Core In[46]:1\n"
     ]
    },
    {
     "data": {
      "text/plain": [
       "101-element Array{Float64,1}:\n",
       " 0.3445782583896758 \n",
       " 0.3519727075758372 \n",
       " 0.35942356678200876\n",
       " 0.36692826396397193\n",
       " 0.37448416527667994\n",
       " 0.3820885778110474 \n",
       " 0.3897387524442028 \n",
       " 0.3974318867982395 \n",
       " 0.40516512830220414\n",
       " 0.4129355773517854 \n",
       " 0.42074029056089696\n",
       " 0.4285762840990993 \n",
       " 0.4364405371085672 \n",
       " ⋮                  \n",
       " 0.9162066775849858 \n",
       " 0.919243340766229  \n",
       " 0.9221961594734536 \n",
       " 0.925066300465673  \n",
       " 0.9278549630341062 \n",
       " 0.9305633766666683 \n",
       " 0.9331927987311419 \n",
       " 0.9357445121810641 \n",
       " 0.9382198232881881 \n",
       " 0.940620059405207  \n",
       " 0.9429465667622459 \n",
       " 0.9452007083004421 "
      ]
     },
     "execution_count": 46,
     "metadata": {},
     "output_type": "execute_result"
    }
   ],
   "source": [
    "raw_data = cdf(Normal(m, s), x)"
   ]
  },
  {
   "cell_type": "code",
   "execution_count": 47,
   "metadata": {},
   "outputs": [
    {
     "data": {
      "image/svg+xml": [
       "<?xml version=\"1.0\" encoding=\"utf-8\"?>\n",
       "<svg xmlns=\"http://www.w3.org/2000/svg\" xmlns:xlink=\"http://www.w3.org/1999/xlink\" width=\"600\" height=\"400\" viewBox=\"0 0 2400 1600\">\n",
       "<defs>\n",
       "  <clipPath id=\"clip0000\">\n",
       "    <rect x=\"0\" y=\"0\" width=\"2400\" height=\"1600\"/>\n",
       "  </clipPath>\n",
       "</defs>\n",
       "<polygon clip-path=\"url(#clip0000)\" points=\"\n",
       "0,1600 2400,1600 2400,0 0,0 \n",
       "  \" fill=\"#ffffff\" fill-rule=\"evenodd\" fill-opacity=\"1\"/>\n",
       "<defs>\n",
       "  <clipPath id=\"clip0001\">\n",
       "    <rect x=\"480\" y=\"0\" width=\"1681\" height=\"1600\"/>\n",
       "  </clipPath>\n",
       "</defs>\n",
       "<polygon clip-path=\"url(#clip0000)\" points=\"\n",
       "153.898,1487.47 2352.76,1487.47 2352.76,47.2441 153.898,47.2441 \n",
       "  \" fill=\"#ffffff\" fill-rule=\"evenodd\" fill-opacity=\"1\"/>\n",
       "<defs>\n",
       "  <clipPath id=\"clip0002\">\n",
       "    <rect x=\"153\" y=\"47\" width=\"2200\" height=\"1441\"/>\n",
       "  </clipPath>\n",
       "</defs>\n",
       "<polyline clip-path=\"url(#clip0002)\" style=\"stroke:#000000; stroke-width:2; stroke-opacity:0.1; fill:none\" points=\"\n",
       "  216.13,1487.47 216.13,47.2441 \n",
       "  \"/>\n",
       "<polyline clip-path=\"url(#clip0002)\" style=\"stroke:#000000; stroke-width:2; stroke-opacity:0.1; fill:none\" points=\"\n",
       "  734.728,1487.47 734.728,47.2441 \n",
       "  \"/>\n",
       "<polyline clip-path=\"url(#clip0002)\" style=\"stroke:#000000; stroke-width:2; stroke-opacity:0.1; fill:none\" points=\"\n",
       "  1253.33,1487.47 1253.33,47.2441 \n",
       "  \"/>\n",
       "<polyline clip-path=\"url(#clip0002)\" style=\"stroke:#000000; stroke-width:2; stroke-opacity:0.1; fill:none\" points=\"\n",
       "  1771.93,1487.47 1771.93,47.2441 \n",
       "  \"/>\n",
       "<polyline clip-path=\"url(#clip0002)\" style=\"stroke:#000000; stroke-width:2; stroke-opacity:0.1; fill:none\" points=\"\n",
       "  2290.52,1487.47 2290.52,47.2441 \n",
       "  \"/>\n",
       "<polyline clip-path=\"url(#clip0002)\" style=\"stroke:#000000; stroke-width:2; stroke-opacity:0.1; fill:none\" points=\"\n",
       "  153.898,1446.71 2352.76,1446.71 \n",
       "  \"/>\n",
       "<polyline clip-path=\"url(#clip0002)\" style=\"stroke:#000000; stroke-width:2; stroke-opacity:0.1; fill:none\" points=\"\n",
       "  153.898,1163.01 2352.76,1163.01 \n",
       "  \"/>\n",
       "<polyline clip-path=\"url(#clip0002)\" style=\"stroke:#000000; stroke-width:2; stroke-opacity:0.1; fill:none\" points=\"\n",
       "  153.898,879.299 2352.76,879.299 \n",
       "  \"/>\n",
       "<polyline clip-path=\"url(#clip0002)\" style=\"stroke:#000000; stroke-width:2; stroke-opacity:0.1; fill:none\" points=\"\n",
       "  153.898,595.591 2352.76,595.591 \n",
       "  \"/>\n",
       "<polyline clip-path=\"url(#clip0002)\" style=\"stroke:#000000; stroke-width:2; stroke-opacity:0.1; fill:none\" points=\"\n",
       "  153.898,311.884 2352.76,311.884 \n",
       "  \"/>\n",
       "<polyline clip-path=\"url(#clip0000)\" style=\"stroke:#000000; stroke-width:4; stroke-opacity:1; fill:none\" points=\"\n",
       "  153.898,1487.47 2352.76,1487.47 \n",
       "  \"/>\n",
       "<polyline clip-path=\"url(#clip0000)\" style=\"stroke:#000000; stroke-width:4; stroke-opacity:1; fill:none\" points=\"\n",
       "  153.898,1487.47 153.898,47.2441 \n",
       "  \"/>\n",
       "<polyline clip-path=\"url(#clip0000)\" style=\"stroke:#000000; stroke-width:4; stroke-opacity:1; fill:none\" points=\"\n",
       "  216.13,1487.47 216.13,1465.87 \n",
       "  \"/>\n",
       "<polyline clip-path=\"url(#clip0000)\" style=\"stroke:#000000; stroke-width:4; stroke-opacity:1; fill:none\" points=\"\n",
       "  734.728,1487.47 734.728,1465.87 \n",
       "  \"/>\n",
       "<polyline clip-path=\"url(#clip0000)\" style=\"stroke:#000000; stroke-width:4; stroke-opacity:1; fill:none\" points=\"\n",
       "  1253.33,1487.47 1253.33,1465.87 \n",
       "  \"/>\n",
       "<polyline clip-path=\"url(#clip0000)\" style=\"stroke:#000000; stroke-width:4; stroke-opacity:1; fill:none\" points=\"\n",
       "  1771.93,1487.47 1771.93,1465.87 \n",
       "  \"/>\n",
       "<polyline clip-path=\"url(#clip0000)\" style=\"stroke:#000000; stroke-width:4; stroke-opacity:1; fill:none\" points=\"\n",
       "  2290.52,1487.47 2290.52,1465.87 \n",
       "  \"/>\n",
       "<polyline clip-path=\"url(#clip0000)\" style=\"stroke:#000000; stroke-width:4; stroke-opacity:1; fill:none\" points=\"\n",
       "  153.898,1446.71 186.881,1446.71 \n",
       "  \"/>\n",
       "<polyline clip-path=\"url(#clip0000)\" style=\"stroke:#000000; stroke-width:4; stroke-opacity:1; fill:none\" points=\"\n",
       "  153.898,1163.01 186.881,1163.01 \n",
       "  \"/>\n",
       "<polyline clip-path=\"url(#clip0000)\" style=\"stroke:#000000; stroke-width:4; stroke-opacity:1; fill:none\" points=\"\n",
       "  153.898,879.299 186.881,879.299 \n",
       "  \"/>\n",
       "<polyline clip-path=\"url(#clip0000)\" style=\"stroke:#000000; stroke-width:4; stroke-opacity:1; fill:none\" points=\"\n",
       "  153.898,595.591 186.881,595.591 \n",
       "  \"/>\n",
       "<polyline clip-path=\"url(#clip0000)\" style=\"stroke:#000000; stroke-width:4; stroke-opacity:1; fill:none\" points=\"\n",
       "  153.898,311.884 186.881,311.884 \n",
       "  \"/>\n",
       "<g clip-path=\"url(#clip0000)\">\n",
       "<text style=\"fill:#000000; fill-opacity:1; font-family:Arial,Helvetica Neue,Helvetica,sans-serif; font-size:48px; text-anchor:middle;\" transform=\"rotate(0, 216.13, 1541.47)\" x=\"216.13\" y=\"1541.47\">0.0</text>\n",
       "</g>\n",
       "<g clip-path=\"url(#clip0000)\">\n",
       "<text style=\"fill:#000000; fill-opacity:1; font-family:Arial,Helvetica Neue,Helvetica,sans-serif; font-size:48px; text-anchor:middle;\" transform=\"rotate(0, 734.728, 1541.47)\" x=\"734.728\" y=\"1541.47\">2.5</text>\n",
       "</g>\n",
       "<g clip-path=\"url(#clip0000)\">\n",
       "<text style=\"fill:#000000; fill-opacity:1; font-family:Arial,Helvetica Neue,Helvetica,sans-serif; font-size:48px; text-anchor:middle;\" transform=\"rotate(0, 1253.33, 1541.47)\" x=\"1253.33\" y=\"1541.47\">5.0</text>\n",
       "</g>\n",
       "<g clip-path=\"url(#clip0000)\">\n",
       "<text style=\"fill:#000000; fill-opacity:1; font-family:Arial,Helvetica Neue,Helvetica,sans-serif; font-size:48px; text-anchor:middle;\" transform=\"rotate(0, 1771.93, 1541.47)\" x=\"1771.93\" y=\"1541.47\">7.5</text>\n",
       "</g>\n",
       "<g clip-path=\"url(#clip0000)\">\n",
       "<text style=\"fill:#000000; fill-opacity:1; font-family:Arial,Helvetica Neue,Helvetica,sans-serif; font-size:48px; text-anchor:middle;\" transform=\"rotate(0, 2290.52, 1541.47)\" x=\"2290.52\" y=\"1541.47\">10.0</text>\n",
       "</g>\n",
       "<g clip-path=\"url(#clip0000)\">\n",
       "<text style=\"fill:#000000; fill-opacity:1; font-family:Arial,Helvetica Neue,Helvetica,sans-serif; font-size:48px; text-anchor:end;\" transform=\"rotate(0, 129.898, 1464.21)\" x=\"129.898\" y=\"1464.21\">0.0</text>\n",
       "</g>\n",
       "<g clip-path=\"url(#clip0000)\">\n",
       "<text style=\"fill:#000000; fill-opacity:1; font-family:Arial,Helvetica Neue,Helvetica,sans-serif; font-size:48px; text-anchor:end;\" transform=\"rotate(0, 129.898, 1180.51)\" x=\"129.898\" y=\"1180.51\">0.2</text>\n",
       "</g>\n",
       "<g clip-path=\"url(#clip0000)\">\n",
       "<text style=\"fill:#000000; fill-opacity:1; font-family:Arial,Helvetica Neue,Helvetica,sans-serif; font-size:48px; text-anchor:end;\" transform=\"rotate(0, 129.898, 896.799)\" x=\"129.898\" y=\"896.799\">0.4</text>\n",
       "</g>\n",
       "<g clip-path=\"url(#clip0000)\">\n",
       "<text style=\"fill:#000000; fill-opacity:1; font-family:Arial,Helvetica Neue,Helvetica,sans-serif; font-size:48px; text-anchor:end;\" transform=\"rotate(0, 129.898, 613.091)\" x=\"129.898\" y=\"613.091\">0.6</text>\n",
       "</g>\n",
       "<g clip-path=\"url(#clip0000)\">\n",
       "<text style=\"fill:#000000; fill-opacity:1; font-family:Arial,Helvetica Neue,Helvetica,sans-serif; font-size:48px; text-anchor:end;\" transform=\"rotate(0, 129.898, 329.384)\" x=\"129.898\" y=\"329.384\">0.8</text>\n",
       "</g>\n",
       "<circle clip-path=\"url(#clip0002)\" style=\"fill:#000000; stroke:none; fill-opacity:1\" cx=\"216.13\" cy=\"957.916\" r=\"18\"/>\n",
       "<circle clip-path=\"url(#clip0002)\" style=\"fill:#009af9; stroke:none; fill-opacity:1\" cx=\"216.13\" cy=\"957.916\" r=\"14\"/>\n",
       "<circle clip-path=\"url(#clip0002)\" style=\"fill:#000000; stroke:none; fill-opacity:1\" cx=\"236.874\" cy=\"947.427\" r=\"18\"/>\n",
       "<circle clip-path=\"url(#clip0002)\" style=\"fill:#009af9; stroke:none; fill-opacity:1\" cx=\"236.874\" cy=\"947.427\" r=\"14\"/>\n",
       "<circle clip-path=\"url(#clip0002)\" style=\"fill:#000000; stroke:none; fill-opacity:1\" cx=\"257.618\" cy=\"936.858\" r=\"18\"/>\n",
       "<circle clip-path=\"url(#clip0002)\" style=\"fill:#009af9; stroke:none; fill-opacity:1\" cx=\"257.618\" cy=\"936.858\" r=\"14\"/>\n",
       "<circle clip-path=\"url(#clip0002)\" style=\"fill:#000000; stroke:none; fill-opacity:1\" cx=\"278.362\" cy=\"926.212\" r=\"18\"/>\n",
       "<circle clip-path=\"url(#clip0002)\" style=\"fill:#009af9; stroke:none; fill-opacity:1\" cx=\"278.362\" cy=\"926.212\" r=\"14\"/>\n",
       "<circle clip-path=\"url(#clip0002)\" style=\"fill:#000000; stroke:none; fill-opacity:1\" cx=\"299.106\" cy=\"915.494\" r=\"18\"/>\n",
       "<circle clip-path=\"url(#clip0002)\" style=\"fill:#009af9; stroke:none; fill-opacity:1\" cx=\"299.106\" cy=\"915.494\" r=\"14\"/>\n",
       "<circle clip-path=\"url(#clip0002)\" style=\"fill:#000000; stroke:none; fill-opacity:1\" cx=\"319.85\" cy=\"904.707\" r=\"18\"/>\n",
       "<circle clip-path=\"url(#clip0002)\" style=\"fill:#009af9; stroke:none; fill-opacity:1\" cx=\"319.85\" cy=\"904.707\" r=\"14\"/>\n",
       "<circle clip-path=\"url(#clip0002)\" style=\"fill:#000000; stroke:none; fill-opacity:1\" cx=\"340.593\" cy=\"893.855\" r=\"18\"/>\n",
       "<circle clip-path=\"url(#clip0002)\" style=\"fill:#009af9; stroke:none; fill-opacity:1\" cx=\"340.593\" cy=\"893.855\" r=\"14\"/>\n",
       "<circle clip-path=\"url(#clip0002)\" style=\"fill:#000000; stroke:none; fill-opacity:1\" cx=\"361.337\" cy=\"882.942\" r=\"18\"/>\n",
       "<circle clip-path=\"url(#clip0002)\" style=\"fill:#009af9; stroke:none; fill-opacity:1\" cx=\"361.337\" cy=\"882.942\" r=\"14\"/>\n",
       "<circle clip-path=\"url(#clip0002)\" style=\"fill:#000000; stroke:none; fill-opacity:1\" cx=\"382.081\" cy=\"871.972\" r=\"18\"/>\n",
       "<circle clip-path=\"url(#clip0002)\" style=\"fill:#009af9; stroke:none; fill-opacity:1\" cx=\"382.081\" cy=\"871.972\" r=\"14\"/>\n",
       "<circle clip-path=\"url(#clip0002)\" style=\"fill:#000000; stroke:none; fill-opacity:1\" cx=\"402.825\" cy=\"860.949\" r=\"18\"/>\n",
       "<circle clip-path=\"url(#clip0002)\" style=\"fill:#009af9; stroke:none; fill-opacity:1\" cx=\"402.825\" cy=\"860.949\" r=\"14\"/>\n",
       "<circle clip-path=\"url(#clip0002)\" style=\"fill:#000000; stroke:none; fill-opacity:1\" cx=\"423.569\" cy=\"849.878\" r=\"18\"/>\n",
       "<circle clip-path=\"url(#clip0002)\" style=\"fill:#009af9; stroke:none; fill-opacity:1\" cx=\"423.569\" cy=\"849.878\" r=\"14\"/>\n",
       "<circle clip-path=\"url(#clip0002)\" style=\"fill:#000000; stroke:none; fill-opacity:1\" cx=\"444.313\" cy=\"838.762\" r=\"18\"/>\n",
       "<circle clip-path=\"url(#clip0002)\" style=\"fill:#009af9; stroke:none; fill-opacity:1\" cx=\"444.313\" cy=\"838.762\" r=\"14\"/>\n",
       "<circle clip-path=\"url(#clip0002)\" style=\"fill:#000000; stroke:none; fill-opacity:1\" cx=\"465.057\" cy=\"827.606\" r=\"18\"/>\n",
       "<circle clip-path=\"url(#clip0002)\" style=\"fill:#009af9; stroke:none; fill-opacity:1\" cx=\"465.057\" cy=\"827.606\" r=\"14\"/>\n",
       "<circle clip-path=\"url(#clip0002)\" style=\"fill:#000000; stroke:none; fill-opacity:1\" cx=\"485.801\" cy=\"816.415\" r=\"18\"/>\n",
       "<circle clip-path=\"url(#clip0002)\" style=\"fill:#009af9; stroke:none; fill-opacity:1\" cx=\"485.801\" cy=\"816.415\" r=\"14\"/>\n",
       "<circle clip-path=\"url(#clip0002)\" style=\"fill:#000000; stroke:none; fill-opacity:1\" cx=\"506.545\" cy=\"805.192\" r=\"18\"/>\n",
       "<circle clip-path=\"url(#clip0002)\" style=\"fill:#009af9; stroke:none; fill-opacity:1\" cx=\"506.545\" cy=\"805.192\" r=\"14\"/>\n",
       "<circle clip-path=\"url(#clip0002)\" style=\"fill:#000000; stroke:none; fill-opacity:1\" cx=\"527.289\" cy=\"793.942\" r=\"18\"/>\n",
       "<circle clip-path=\"url(#clip0002)\" style=\"fill:#009af9; stroke:none; fill-opacity:1\" cx=\"527.289\" cy=\"793.942\" r=\"14\"/>\n",
       "<circle clip-path=\"url(#clip0002)\" style=\"fill:#000000; stroke:none; fill-opacity:1\" cx=\"548.033\" cy=\"782.67\" r=\"18\"/>\n",
       "<circle clip-path=\"url(#clip0002)\" style=\"fill:#009af9; stroke:none; fill-opacity:1\" cx=\"548.033\" cy=\"782.67\" r=\"14\"/>\n",
       "<circle clip-path=\"url(#clip0002)\" style=\"fill:#000000; stroke:none; fill-opacity:1\" cx=\"568.777\" cy=\"771.379\" r=\"18\"/>\n",
       "<circle clip-path=\"url(#clip0002)\" style=\"fill:#009af9; stroke:none; fill-opacity:1\" cx=\"568.777\" cy=\"771.379\" r=\"14\"/>\n",
       "<circle clip-path=\"url(#clip0002)\" style=\"fill:#000000; stroke:none; fill-opacity:1\" cx=\"589.521\" cy=\"760.075\" r=\"18\"/>\n",
       "<circle clip-path=\"url(#clip0002)\" style=\"fill:#009af9; stroke:none; fill-opacity:1\" cx=\"589.521\" cy=\"760.075\" r=\"14\"/>\n",
       "<circle clip-path=\"url(#clip0002)\" style=\"fill:#000000; stroke:none; fill-opacity:1\" cx=\"610.265\" cy=\"748.762\" r=\"18\"/>\n",
       "<circle clip-path=\"url(#clip0002)\" style=\"fill:#009af9; stroke:none; fill-opacity:1\" cx=\"610.265\" cy=\"748.762\" r=\"14\"/>\n",
       "<circle clip-path=\"url(#clip0002)\" style=\"fill:#000000; stroke:none; fill-opacity:1\" cx=\"631.009\" cy=\"737.445\" r=\"18\"/>\n",
       "<circle clip-path=\"url(#clip0002)\" style=\"fill:#009af9; stroke:none; fill-opacity:1\" cx=\"631.009\" cy=\"737.445\" r=\"14\"/>\n",
       "<circle clip-path=\"url(#clip0002)\" style=\"fill:#000000; stroke:none; fill-opacity:1\" cx=\"651.753\" cy=\"726.127\" r=\"18\"/>\n",
       "<circle clip-path=\"url(#clip0002)\" style=\"fill:#009af9; stroke:none; fill-opacity:1\" cx=\"651.753\" cy=\"726.127\" r=\"14\"/>\n",
       "<circle clip-path=\"url(#clip0002)\" style=\"fill:#000000; stroke:none; fill-opacity:1\" cx=\"672.497\" cy=\"714.814\" r=\"18\"/>\n",
       "<circle clip-path=\"url(#clip0002)\" style=\"fill:#009af9; stroke:none; fill-opacity:1\" cx=\"672.497\" cy=\"714.814\" r=\"14\"/>\n",
       "<circle clip-path=\"url(#clip0002)\" style=\"fill:#000000; stroke:none; fill-opacity:1\" cx=\"693.24\" cy=\"703.51\" r=\"18\"/>\n",
       "<circle clip-path=\"url(#clip0002)\" style=\"fill:#009af9; stroke:none; fill-opacity:1\" cx=\"693.24\" cy=\"703.51\" r=\"14\"/>\n",
       "<circle clip-path=\"url(#clip0002)\" style=\"fill:#000000; stroke:none; fill-opacity:1\" cx=\"713.984\" cy=\"692.22\" r=\"18\"/>\n",
       "<circle clip-path=\"url(#clip0002)\" style=\"fill:#009af9; stroke:none; fill-opacity:1\" cx=\"713.984\" cy=\"692.22\" r=\"14\"/>\n",
       "<circle clip-path=\"url(#clip0002)\" style=\"fill:#000000; stroke:none; fill-opacity:1\" cx=\"734.728\" cy=\"680.948\" r=\"18\"/>\n",
       "<circle clip-path=\"url(#clip0002)\" style=\"fill:#009af9; stroke:none; fill-opacity:1\" cx=\"734.728\" cy=\"680.948\" r=\"14\"/>\n",
       "<circle clip-path=\"url(#clip0002)\" style=\"fill:#000000; stroke:none; fill-opacity:1\" cx=\"755.472\" cy=\"669.698\" r=\"18\"/>\n",
       "<circle clip-path=\"url(#clip0002)\" style=\"fill:#009af9; stroke:none; fill-opacity:1\" cx=\"755.472\" cy=\"669.698\" r=\"14\"/>\n",
       "<circle clip-path=\"url(#clip0002)\" style=\"fill:#000000; stroke:none; fill-opacity:1\" cx=\"776.216\" cy=\"658.475\" r=\"18\"/>\n",
       "<circle clip-path=\"url(#clip0002)\" style=\"fill:#009af9; stroke:none; fill-opacity:1\" cx=\"776.216\" cy=\"658.475\" r=\"14\"/>\n",
       "<circle clip-path=\"url(#clip0002)\" style=\"fill:#000000; stroke:none; fill-opacity:1\" cx=\"796.96\" cy=\"647.283\" r=\"18\"/>\n",
       "<circle clip-path=\"url(#clip0002)\" style=\"fill:#009af9; stroke:none; fill-opacity:1\" cx=\"796.96\" cy=\"647.283\" r=\"14\"/>\n",
       "<circle clip-path=\"url(#clip0002)\" style=\"fill:#000000; stroke:none; fill-opacity:1\" cx=\"817.704\" cy=\"636.128\" r=\"18\"/>\n",
       "<circle clip-path=\"url(#clip0002)\" style=\"fill:#009af9; stroke:none; fill-opacity:1\" cx=\"817.704\" cy=\"636.128\" r=\"14\"/>\n",
       "<circle clip-path=\"url(#clip0002)\" style=\"fill:#000000; stroke:none; fill-opacity:1\" cx=\"838.448\" cy=\"625.012\" r=\"18\"/>\n",
       "<circle clip-path=\"url(#clip0002)\" style=\"fill:#009af9; stroke:none; fill-opacity:1\" cx=\"838.448\" cy=\"625.012\" r=\"14\"/>\n",
       "<circle clip-path=\"url(#clip0002)\" style=\"fill:#000000; stroke:none; fill-opacity:1\" cx=\"859.192\" cy=\"613.941\" r=\"18\"/>\n",
       "<circle clip-path=\"url(#clip0002)\" style=\"fill:#009af9; stroke:none; fill-opacity:1\" cx=\"859.192\" cy=\"613.941\" r=\"14\"/>\n",
       "<circle clip-path=\"url(#clip0002)\" style=\"fill:#000000; stroke:none; fill-opacity:1\" cx=\"879.936\" cy=\"602.918\" r=\"18\"/>\n",
       "<circle clip-path=\"url(#clip0002)\" style=\"fill:#009af9; stroke:none; fill-opacity:1\" cx=\"879.936\" cy=\"602.918\" r=\"14\"/>\n",
       "<circle clip-path=\"url(#clip0002)\" style=\"fill:#000000; stroke:none; fill-opacity:1\" cx=\"900.68\" cy=\"591.948\" r=\"18\"/>\n",
       "<circle clip-path=\"url(#clip0002)\" style=\"fill:#009af9; stroke:none; fill-opacity:1\" cx=\"900.68\" cy=\"591.948\" r=\"14\"/>\n",
       "<circle clip-path=\"url(#clip0002)\" style=\"fill:#000000; stroke:none; fill-opacity:1\" cx=\"921.424\" cy=\"581.035\" r=\"18\"/>\n",
       "<circle clip-path=\"url(#clip0002)\" style=\"fill:#009af9; stroke:none; fill-opacity:1\" cx=\"921.424\" cy=\"581.035\" r=\"14\"/>\n",
       "<circle clip-path=\"url(#clip0002)\" style=\"fill:#000000; stroke:none; fill-opacity:1\" cx=\"942.168\" cy=\"570.183\" r=\"18\"/>\n",
       "<circle clip-path=\"url(#clip0002)\" style=\"fill:#009af9; stroke:none; fill-opacity:1\" cx=\"942.168\" cy=\"570.183\" r=\"14\"/>\n",
       "<circle clip-path=\"url(#clip0002)\" style=\"fill:#000000; stroke:none; fill-opacity:1\" cx=\"962.912\" cy=\"559.396\" r=\"18\"/>\n",
       "<circle clip-path=\"url(#clip0002)\" style=\"fill:#009af9; stroke:none; fill-opacity:1\" cx=\"962.912\" cy=\"559.396\" r=\"14\"/>\n",
       "<circle clip-path=\"url(#clip0002)\" style=\"fill:#000000; stroke:none; fill-opacity:1\" cx=\"983.656\" cy=\"548.678\" r=\"18\"/>\n",
       "<circle clip-path=\"url(#clip0002)\" style=\"fill:#009af9; stroke:none; fill-opacity:1\" cx=\"983.656\" cy=\"548.678\" r=\"14\"/>\n",
       "<circle clip-path=\"url(#clip0002)\" style=\"fill:#000000; stroke:none; fill-opacity:1\" cx=\"1004.4\" cy=\"538.032\" r=\"18\"/>\n",
       "<circle clip-path=\"url(#clip0002)\" style=\"fill:#009af9; stroke:none; fill-opacity:1\" cx=\"1004.4\" cy=\"538.032\" r=\"14\"/>\n",
       "<circle clip-path=\"url(#clip0002)\" style=\"fill:#000000; stroke:none; fill-opacity:1\" cx=\"1025.14\" cy=\"527.463\" r=\"18\"/>\n",
       "<circle clip-path=\"url(#clip0002)\" style=\"fill:#009af9; stroke:none; fill-opacity:1\" cx=\"1025.14\" cy=\"527.463\" r=\"14\"/>\n",
       "<circle clip-path=\"url(#clip0002)\" style=\"fill:#000000; stroke:none; fill-opacity:1\" cx=\"1045.89\" cy=\"516.973\" r=\"18\"/>\n",
       "<circle clip-path=\"url(#clip0002)\" style=\"fill:#009af9; stroke:none; fill-opacity:1\" cx=\"1045.89\" cy=\"516.973\" r=\"14\"/>\n",
       "<circle clip-path=\"url(#clip0002)\" style=\"fill:#000000; stroke:none; fill-opacity:1\" cx=\"1066.63\" cy=\"506.568\" r=\"18\"/>\n",
       "<circle clip-path=\"url(#clip0002)\" style=\"fill:#009af9; stroke:none; fill-opacity:1\" cx=\"1066.63\" cy=\"506.568\" r=\"14\"/>\n",
       "<circle clip-path=\"url(#clip0002)\" style=\"fill:#000000; stroke:none; fill-opacity:1\" cx=\"1087.38\" cy=\"496.249\" r=\"18\"/>\n",
       "<circle clip-path=\"url(#clip0002)\" style=\"fill:#009af9; stroke:none; fill-opacity:1\" cx=\"1087.38\" cy=\"496.249\" r=\"14\"/>\n",
       "<circle clip-path=\"url(#clip0002)\" style=\"fill:#000000; stroke:none; fill-opacity:1\" cx=\"1108.12\" cy=\"486.021\" r=\"18\"/>\n",
       "<circle clip-path=\"url(#clip0002)\" style=\"fill:#009af9; stroke:none; fill-opacity:1\" cx=\"1108.12\" cy=\"486.021\" r=\"14\"/>\n",
       "<circle clip-path=\"url(#clip0002)\" style=\"fill:#000000; stroke:none; fill-opacity:1\" cx=\"1128.86\" cy=\"475.886\" r=\"18\"/>\n",
       "<circle clip-path=\"url(#clip0002)\" style=\"fill:#009af9; stroke:none; fill-opacity:1\" cx=\"1128.86\" cy=\"475.886\" r=\"14\"/>\n",
       "<circle clip-path=\"url(#clip0002)\" style=\"fill:#000000; stroke:none; fill-opacity:1\" cx=\"1149.61\" cy=\"465.848\" r=\"18\"/>\n",
       "<circle clip-path=\"url(#clip0002)\" style=\"fill:#009af9; stroke:none; fill-opacity:1\" cx=\"1149.61\" cy=\"465.848\" r=\"14\"/>\n",
       "<circle clip-path=\"url(#clip0002)\" style=\"fill:#000000; stroke:none; fill-opacity:1\" cx=\"1170.35\" cy=\"455.91\" r=\"18\"/>\n",
       "<circle clip-path=\"url(#clip0002)\" style=\"fill:#009af9; stroke:none; fill-opacity:1\" cx=\"1170.35\" cy=\"455.91\" r=\"14\"/>\n",
       "<circle clip-path=\"url(#clip0002)\" style=\"fill:#000000; stroke:none; fill-opacity:1\" cx=\"1191.1\" cy=\"446.075\" r=\"18\"/>\n",
       "<circle clip-path=\"url(#clip0002)\" style=\"fill:#009af9; stroke:none; fill-opacity:1\" cx=\"1191.1\" cy=\"446.075\" r=\"14\"/>\n",
       "<circle clip-path=\"url(#clip0002)\" style=\"fill:#000000; stroke:none; fill-opacity:1\" cx=\"1211.84\" cy=\"436.346\" r=\"18\"/>\n",
       "<circle clip-path=\"url(#clip0002)\" style=\"fill:#009af9; stroke:none; fill-opacity:1\" cx=\"1211.84\" cy=\"436.346\" r=\"14\"/>\n",
       "<circle clip-path=\"url(#clip0002)\" style=\"fill:#000000; stroke:none; fill-opacity:1\" cx=\"1232.58\" cy=\"426.725\" r=\"18\"/>\n",
       "<circle clip-path=\"url(#clip0002)\" style=\"fill:#009af9; stroke:none; fill-opacity:1\" cx=\"1232.58\" cy=\"426.725\" r=\"14\"/>\n",
       "<circle clip-path=\"url(#clip0002)\" style=\"fill:#000000; stroke:none; fill-opacity:1\" cx=\"1253.33\" cy=\"417.215\" r=\"18\"/>\n",
       "<circle clip-path=\"url(#clip0002)\" style=\"fill:#009af9; stroke:none; fill-opacity:1\" cx=\"1253.33\" cy=\"417.215\" r=\"14\"/>\n",
       "<circle clip-path=\"url(#clip0002)\" style=\"fill:#000000; stroke:none; fill-opacity:1\" cx=\"1274.07\" cy=\"407.818\" r=\"18\"/>\n",
       "<circle clip-path=\"url(#clip0002)\" style=\"fill:#009af9; stroke:none; fill-opacity:1\" cx=\"1274.07\" cy=\"407.818\" r=\"14\"/>\n",
       "<circle clip-path=\"url(#clip0002)\" style=\"fill:#000000; stroke:none; fill-opacity:1\" cx=\"1294.81\" cy=\"398.537\" r=\"18\"/>\n",
       "<circle clip-path=\"url(#clip0002)\" style=\"fill:#009af9; stroke:none; fill-opacity:1\" cx=\"1294.81\" cy=\"398.537\" r=\"14\"/>\n",
       "<circle clip-path=\"url(#clip0002)\" style=\"fill:#000000; stroke:none; fill-opacity:1\" cx=\"1315.56\" cy=\"389.374\" r=\"18\"/>\n",
       "<circle clip-path=\"url(#clip0002)\" style=\"fill:#009af9; stroke:none; fill-opacity:1\" cx=\"1315.56\" cy=\"389.374\" r=\"14\"/>\n",
       "<circle clip-path=\"url(#clip0002)\" style=\"fill:#000000; stroke:none; fill-opacity:1\" cx=\"1336.3\" cy=\"380.331\" r=\"18\"/>\n",
       "<circle clip-path=\"url(#clip0002)\" style=\"fill:#009af9; stroke:none; fill-opacity:1\" cx=\"1336.3\" cy=\"380.331\" r=\"14\"/>\n",
       "<circle clip-path=\"url(#clip0002)\" style=\"fill:#000000; stroke:none; fill-opacity:1\" cx=\"1357.05\" cy=\"371.411\" r=\"18\"/>\n",
       "<circle clip-path=\"url(#clip0002)\" style=\"fill:#009af9; stroke:none; fill-opacity:1\" cx=\"1357.05\" cy=\"371.411\" r=\"14\"/>\n",
       "<circle clip-path=\"url(#clip0002)\" style=\"fill:#000000; stroke:none; fill-opacity:1\" cx=\"1377.79\" cy=\"362.614\" r=\"18\"/>\n",
       "<circle clip-path=\"url(#clip0002)\" style=\"fill:#009af9; stroke:none; fill-opacity:1\" cx=\"1377.79\" cy=\"362.614\" r=\"14\"/>\n",
       "<circle clip-path=\"url(#clip0002)\" style=\"fill:#000000; stroke:none; fill-opacity:1\" cx=\"1398.53\" cy=\"353.943\" r=\"18\"/>\n",
       "<circle clip-path=\"url(#clip0002)\" style=\"fill:#009af9; stroke:none; fill-opacity:1\" cx=\"1398.53\" cy=\"353.943\" r=\"14\"/>\n",
       "<circle clip-path=\"url(#clip0002)\" style=\"fill:#000000; stroke:none; fill-opacity:1\" cx=\"1419.28\" cy=\"345.4\" r=\"18\"/>\n",
       "<circle clip-path=\"url(#clip0002)\" style=\"fill:#009af9; stroke:none; fill-opacity:1\" cx=\"1419.28\" cy=\"345.4\" r=\"14\"/>\n",
       "<circle clip-path=\"url(#clip0002)\" style=\"fill:#000000; stroke:none; fill-opacity:1\" cx=\"1440.02\" cy=\"336.985\" r=\"18\"/>\n",
       "<circle clip-path=\"url(#clip0002)\" style=\"fill:#009af9; stroke:none; fill-opacity:1\" cx=\"1440.02\" cy=\"336.985\" r=\"14\"/>\n",
       "<circle clip-path=\"url(#clip0002)\" style=\"fill:#000000; stroke:none; fill-opacity:1\" cx=\"1460.77\" cy=\"328.701\" r=\"18\"/>\n",
       "<circle clip-path=\"url(#clip0002)\" style=\"fill:#009af9; stroke:none; fill-opacity:1\" cx=\"1460.77\" cy=\"328.701\" r=\"14\"/>\n",
       "<circle clip-path=\"url(#clip0002)\" style=\"fill:#000000; stroke:none; fill-opacity:1\" cx=\"1481.51\" cy=\"320.548\" r=\"18\"/>\n",
       "<circle clip-path=\"url(#clip0002)\" style=\"fill:#009af9; stroke:none; fill-opacity:1\" cx=\"1481.51\" cy=\"320.548\" r=\"14\"/>\n",
       "<circle clip-path=\"url(#clip0002)\" style=\"fill:#000000; stroke:none; fill-opacity:1\" cx=\"1502.25\" cy=\"312.528\" r=\"18\"/>\n",
       "<circle clip-path=\"url(#clip0002)\" style=\"fill:#009af9; stroke:none; fill-opacity:1\" cx=\"1502.25\" cy=\"312.528\" r=\"14\"/>\n",
       "<circle clip-path=\"url(#clip0002)\" style=\"fill:#000000; stroke:none; fill-opacity:1\" cx=\"1523\" cy=\"304.641\" r=\"18\"/>\n",
       "<circle clip-path=\"url(#clip0002)\" style=\"fill:#009af9; stroke:none; fill-opacity:1\" cx=\"1523\" cy=\"304.641\" r=\"14\"/>\n",
       "<circle clip-path=\"url(#clip0002)\" style=\"fill:#000000; stroke:none; fill-opacity:1\" cx=\"1543.74\" cy=\"296.889\" r=\"18\"/>\n",
       "<circle clip-path=\"url(#clip0002)\" style=\"fill:#009af9; stroke:none; fill-opacity:1\" cx=\"1543.74\" cy=\"296.889\" r=\"14\"/>\n",
       "<circle clip-path=\"url(#clip0002)\" style=\"fill:#000000; stroke:none; fill-opacity:1\" cx=\"1564.49\" cy=\"289.272\" r=\"18\"/>\n",
       "<circle clip-path=\"url(#clip0002)\" style=\"fill:#009af9; stroke:none; fill-opacity:1\" cx=\"1564.49\" cy=\"289.272\" r=\"14\"/>\n",
       "<circle clip-path=\"url(#clip0002)\" style=\"fill:#000000; stroke:none; fill-opacity:1\" cx=\"1585.23\" cy=\"281.791\" r=\"18\"/>\n",
       "<circle clip-path=\"url(#clip0002)\" style=\"fill:#009af9; stroke:none; fill-opacity:1\" cx=\"1585.23\" cy=\"281.791\" r=\"14\"/>\n",
       "<circle clip-path=\"url(#clip0002)\" style=\"fill:#000000; stroke:none; fill-opacity:1\" cx=\"1605.97\" cy=\"274.447\" r=\"18\"/>\n",
       "<circle clip-path=\"url(#clip0002)\" style=\"fill:#009af9; stroke:none; fill-opacity:1\" cx=\"1605.97\" cy=\"274.447\" r=\"14\"/>\n",
       "<circle clip-path=\"url(#clip0002)\" style=\"fill:#000000; stroke:none; fill-opacity:1\" cx=\"1626.72\" cy=\"267.239\" r=\"18\"/>\n",
       "<circle clip-path=\"url(#clip0002)\" style=\"fill:#009af9; stroke:none; fill-opacity:1\" cx=\"1626.72\" cy=\"267.239\" r=\"14\"/>\n",
       "<circle clip-path=\"url(#clip0002)\" style=\"fill:#000000; stroke:none; fill-opacity:1\" cx=\"1647.46\" cy=\"260.168\" r=\"18\"/>\n",
       "<circle clip-path=\"url(#clip0002)\" style=\"fill:#009af9; stroke:none; fill-opacity:1\" cx=\"1647.46\" cy=\"260.168\" r=\"14\"/>\n",
       "<circle clip-path=\"url(#clip0002)\" style=\"fill:#000000; stroke:none; fill-opacity:1\" cx=\"1668.21\" cy=\"253.235\" r=\"18\"/>\n",
       "<circle clip-path=\"url(#clip0002)\" style=\"fill:#009af9; stroke:none; fill-opacity:1\" cx=\"1668.21\" cy=\"253.235\" r=\"14\"/>\n",
       "<circle clip-path=\"url(#clip0002)\" style=\"fill:#000000; stroke:none; fill-opacity:1\" cx=\"1688.95\" cy=\"246.438\" r=\"18\"/>\n",
       "<circle clip-path=\"url(#clip0002)\" style=\"fill:#009af9; stroke:none; fill-opacity:1\" cx=\"1688.95\" cy=\"246.438\" r=\"14\"/>\n",
       "<circle clip-path=\"url(#clip0002)\" style=\"fill:#000000; stroke:none; fill-opacity:1\" cx=\"1709.69\" cy=\"239.779\" r=\"18\"/>\n",
       "<circle clip-path=\"url(#clip0002)\" style=\"fill:#009af9; stroke:none; fill-opacity:1\" cx=\"1709.69\" cy=\"239.779\" r=\"14\"/>\n",
       "<circle clip-path=\"url(#clip0002)\" style=\"fill:#000000; stroke:none; fill-opacity:1\" cx=\"1730.44\" cy=\"233.257\" r=\"18\"/>\n",
       "<circle clip-path=\"url(#clip0002)\" style=\"fill:#009af9; stroke:none; fill-opacity:1\" cx=\"1730.44\" cy=\"233.257\" r=\"14\"/>\n",
       "<circle clip-path=\"url(#clip0002)\" style=\"fill:#000000; stroke:none; fill-opacity:1\" cx=\"1751.18\" cy=\"226.872\" r=\"18\"/>\n",
       "<circle clip-path=\"url(#clip0002)\" style=\"fill:#009af9; stroke:none; fill-opacity:1\" cx=\"1751.18\" cy=\"226.872\" r=\"14\"/>\n",
       "<circle clip-path=\"url(#clip0002)\" style=\"fill:#000000; stroke:none; fill-opacity:1\" cx=\"1771.93\" cy=\"220.624\" r=\"18\"/>\n",
       "<circle clip-path=\"url(#clip0002)\" style=\"fill:#009af9; stroke:none; fill-opacity:1\" cx=\"1771.93\" cy=\"220.624\" r=\"14\"/>\n",
       "<circle clip-path=\"url(#clip0002)\" style=\"fill:#000000; stroke:none; fill-opacity:1\" cx=\"1792.67\" cy=\"214.511\" r=\"18\"/>\n",
       "<circle clip-path=\"url(#clip0002)\" style=\"fill:#009af9; stroke:none; fill-opacity:1\" cx=\"1792.67\" cy=\"214.511\" r=\"14\"/>\n",
       "<circle clip-path=\"url(#clip0002)\" style=\"fill:#000000; stroke:none; fill-opacity:1\" cx=\"1813.41\" cy=\"208.534\" r=\"18\"/>\n",
       "<circle clip-path=\"url(#clip0002)\" style=\"fill:#009af9; stroke:none; fill-opacity:1\" cx=\"1813.41\" cy=\"208.534\" r=\"14\"/>\n",
       "<circle clip-path=\"url(#clip0002)\" style=\"fill:#000000; stroke:none; fill-opacity:1\" cx=\"1834.16\" cy=\"202.691\" r=\"18\"/>\n",
       "<circle clip-path=\"url(#clip0002)\" style=\"fill:#009af9; stroke:none; fill-opacity:1\" cx=\"1834.16\" cy=\"202.691\" r=\"14\"/>\n",
       "<circle clip-path=\"url(#clip0002)\" style=\"fill:#000000; stroke:none; fill-opacity:1\" cx=\"1854.9\" cy=\"196.982\" r=\"18\"/>\n",
       "<circle clip-path=\"url(#clip0002)\" style=\"fill:#009af9; stroke:none; fill-opacity:1\" cx=\"1854.9\" cy=\"196.982\" r=\"14\"/>\n",
       "<circle clip-path=\"url(#clip0002)\" style=\"fill:#000000; stroke:none; fill-opacity:1\" cx=\"1875.65\" cy=\"191.407\" r=\"18\"/>\n",
       "<circle clip-path=\"url(#clip0002)\" style=\"fill:#009af9; stroke:none; fill-opacity:1\" cx=\"1875.65\" cy=\"191.407\" r=\"14\"/>\n",
       "<circle clip-path=\"url(#clip0002)\" style=\"fill:#000000; stroke:none; fill-opacity:1\" cx=\"1896.39\" cy=\"185.964\" r=\"18\"/>\n",
       "<circle clip-path=\"url(#clip0002)\" style=\"fill:#009af9; stroke:none; fill-opacity:1\" cx=\"1896.39\" cy=\"185.964\" r=\"14\"/>\n",
       "<circle clip-path=\"url(#clip0002)\" style=\"fill:#000000; stroke:none; fill-opacity:1\" cx=\"1917.13\" cy=\"180.652\" r=\"18\"/>\n",
       "<circle clip-path=\"url(#clip0002)\" style=\"fill:#009af9; stroke:none; fill-opacity:1\" cx=\"1917.13\" cy=\"180.652\" r=\"14\"/>\n",
       "<circle clip-path=\"url(#clip0002)\" style=\"fill:#000000; stroke:none; fill-opacity:1\" cx=\"1937.88\" cy=\"175.47\" r=\"18\"/>\n",
       "<circle clip-path=\"url(#clip0002)\" style=\"fill:#009af9; stroke:none; fill-opacity:1\" cx=\"1937.88\" cy=\"175.47\" r=\"14\"/>\n",
       "<circle clip-path=\"url(#clip0002)\" style=\"fill:#000000; stroke:none; fill-opacity:1\" cx=\"1958.62\" cy=\"170.417\" r=\"18\"/>\n",
       "<circle clip-path=\"url(#clip0002)\" style=\"fill:#009af9; stroke:none; fill-opacity:1\" cx=\"1958.62\" cy=\"170.417\" r=\"14\"/>\n",
       "<circle clip-path=\"url(#clip0002)\" style=\"fill:#000000; stroke:none; fill-opacity:1\" cx=\"1979.36\" cy=\"165.491\" r=\"18\"/>\n",
       "<circle clip-path=\"url(#clip0002)\" style=\"fill:#009af9; stroke:none; fill-opacity:1\" cx=\"1979.36\" cy=\"165.491\" r=\"14\"/>\n",
       "<circle clip-path=\"url(#clip0002)\" style=\"fill:#000000; stroke:none; fill-opacity:1\" cx=\"2000.11\" cy=\"160.692\" r=\"18\"/>\n",
       "<circle clip-path=\"url(#clip0002)\" style=\"fill:#009af9; stroke:none; fill-opacity:1\" cx=\"2000.11\" cy=\"160.692\" r=\"14\"/>\n",
       "<circle clip-path=\"url(#clip0002)\" style=\"fill:#000000; stroke:none; fill-opacity:1\" cx=\"2020.85\" cy=\"156.019\" r=\"18\"/>\n",
       "<circle clip-path=\"url(#clip0002)\" style=\"fill:#009af9; stroke:none; fill-opacity:1\" cx=\"2020.85\" cy=\"156.019\" r=\"14\"/>\n",
       "<circle clip-path=\"url(#clip0002)\" style=\"fill:#000000; stroke:none; fill-opacity:1\" cx=\"2041.6\" cy=\"151.468\" r=\"18\"/>\n",
       "<circle clip-path=\"url(#clip0002)\" style=\"fill:#009af9; stroke:none; fill-opacity:1\" cx=\"2041.6\" cy=\"151.468\" r=\"14\"/>\n",
       "<circle clip-path=\"url(#clip0002)\" style=\"fill:#000000; stroke:none; fill-opacity:1\" cx=\"2062.34\" cy=\"147.04\" r=\"18\"/>\n",
       "<circle clip-path=\"url(#clip0002)\" style=\"fill:#009af9; stroke:none; fill-opacity:1\" cx=\"2062.34\" cy=\"147.04\" r=\"14\"/>\n",
       "<circle clip-path=\"url(#clip0002)\" style=\"fill:#000000; stroke:none; fill-opacity:1\" cx=\"2083.08\" cy=\"142.733\" r=\"18\"/>\n",
       "<circle clip-path=\"url(#clip0002)\" style=\"fill:#009af9; stroke:none; fill-opacity:1\" cx=\"2083.08\" cy=\"142.733\" r=\"14\"/>\n",
       "<circle clip-path=\"url(#clip0002)\" style=\"fill:#000000; stroke:none; fill-opacity:1\" cx=\"2103.83\" cy=\"138.544\" r=\"18\"/>\n",
       "<circle clip-path=\"url(#clip0002)\" style=\"fill:#009af9; stroke:none; fill-opacity:1\" cx=\"2103.83\" cy=\"138.544\" r=\"14\"/>\n",
       "<circle clip-path=\"url(#clip0002)\" style=\"fill:#000000; stroke:none; fill-opacity:1\" cx=\"2124.57\" cy=\"134.472\" r=\"18\"/>\n",
       "<circle clip-path=\"url(#clip0002)\" style=\"fill:#009af9; stroke:none; fill-opacity:1\" cx=\"2124.57\" cy=\"134.472\" r=\"14\"/>\n",
       "<circle clip-path=\"url(#clip0002)\" style=\"fill:#000000; stroke:none; fill-opacity:1\" cx=\"2145.32\" cy=\"130.517\" r=\"18\"/>\n",
       "<circle clip-path=\"url(#clip0002)\" style=\"fill:#009af9; stroke:none; fill-opacity:1\" cx=\"2145.32\" cy=\"130.517\" r=\"14\"/>\n",
       "<circle clip-path=\"url(#clip0002)\" style=\"fill:#000000; stroke:none; fill-opacity:1\" cx=\"2166.06\" cy=\"126.675\" r=\"18\"/>\n",
       "<circle clip-path=\"url(#clip0002)\" style=\"fill:#009af9; stroke:none; fill-opacity:1\" cx=\"2166.06\" cy=\"126.675\" r=\"14\"/>\n",
       "<circle clip-path=\"url(#clip0002)\" style=\"fill:#000000; stroke:none; fill-opacity:1\" cx=\"2186.8\" cy=\"122.945\" r=\"18\"/>\n",
       "<circle clip-path=\"url(#clip0002)\" style=\"fill:#009af9; stroke:none; fill-opacity:1\" cx=\"2186.8\" cy=\"122.945\" r=\"14\"/>\n",
       "<circle clip-path=\"url(#clip0002)\" style=\"fill:#000000; stroke:none; fill-opacity:1\" cx=\"2207.55\" cy=\"119.325\" r=\"18\"/>\n",
       "<circle clip-path=\"url(#clip0002)\" style=\"fill:#009af9; stroke:none; fill-opacity:1\" cx=\"2207.55\" cy=\"119.325\" r=\"14\"/>\n",
       "<circle clip-path=\"url(#clip0002)\" style=\"fill:#000000; stroke:none; fill-opacity:1\" cx=\"2228.29\" cy=\"115.814\" r=\"18\"/>\n",
       "<circle clip-path=\"url(#clip0002)\" style=\"fill:#009af9; stroke:none; fill-opacity:1\" cx=\"2228.29\" cy=\"115.814\" r=\"14\"/>\n",
       "<circle clip-path=\"url(#clip0002)\" style=\"fill:#000000; stroke:none; fill-opacity:1\" cx=\"2249.04\" cy=\"112.409\" r=\"18\"/>\n",
       "<circle clip-path=\"url(#clip0002)\" style=\"fill:#009af9; stroke:none; fill-opacity:1\" cx=\"2249.04\" cy=\"112.409\" r=\"14\"/>\n",
       "<circle clip-path=\"url(#clip0002)\" style=\"fill:#000000; stroke:none; fill-opacity:1\" cx=\"2269.78\" cy=\"109.109\" r=\"18\"/>\n",
       "<circle clip-path=\"url(#clip0002)\" style=\"fill:#009af9; stroke:none; fill-opacity:1\" cx=\"2269.78\" cy=\"109.109\" r=\"14\"/>\n",
       "<circle clip-path=\"url(#clip0002)\" style=\"fill:#000000; stroke:none; fill-opacity:1\" cx=\"2290.52\" cy=\"105.911\" r=\"18\"/>\n",
       "<circle clip-path=\"url(#clip0002)\" style=\"fill:#009af9; stroke:none; fill-opacity:1\" cx=\"2290.52\" cy=\"105.911\" r=\"14\"/>\n",
       "<circle clip-path=\"url(#clip0002)\" style=\"fill:#000000; stroke:none; fill-opacity:1\" cx=\"216.13\" cy=\"1446.71\" r=\"18\"/>\n",
       "<circle clip-path=\"url(#clip0002)\" style=\"fill:#e26f46; stroke:none; fill-opacity:1\" cx=\"216.13\" cy=\"1446.71\" r=\"14\"/>\n",
       "<circle clip-path=\"url(#clip0002)\" style=\"fill:#000000; stroke:none; fill-opacity:1\" cx=\"236.874\" cy=\"1359.08\" r=\"18\"/>\n",
       "<circle clip-path=\"url(#clip0002)\" style=\"fill:#e26f46; stroke:none; fill-opacity:1\" cx=\"236.874\" cy=\"1359.08\" r=\"14\"/>\n",
       "<circle clip-path=\"url(#clip0002)\" style=\"fill:#000000; stroke:none; fill-opacity:1\" cx=\"257.618\" cy=\"1277.1\" r=\"18\"/>\n",
       "<circle clip-path=\"url(#clip0002)\" style=\"fill:#e26f46; stroke:none; fill-opacity:1\" cx=\"257.618\" cy=\"1277.1\" r=\"14\"/>\n",
       "<circle clip-path=\"url(#clip0002)\" style=\"fill:#000000; stroke:none; fill-opacity:1\" cx=\"278.362\" cy=\"1200.39\" r=\"18\"/>\n",
       "<circle clip-path=\"url(#clip0002)\" style=\"fill:#e26f46; stroke:none; fill-opacity:1\" cx=\"278.362\" cy=\"1200.39\" r=\"14\"/>\n",
       "<circle clip-path=\"url(#clip0002)\" style=\"fill:#000000; stroke:none; fill-opacity:1\" cx=\"299.106\" cy=\"1128.63\" r=\"18\"/>\n",
       "<circle clip-path=\"url(#clip0002)\" style=\"fill:#e26f46; stroke:none; fill-opacity:1\" cx=\"299.106\" cy=\"1128.63\" r=\"14\"/>\n",
       "<circle clip-path=\"url(#clip0002)\" style=\"fill:#000000; stroke:none; fill-opacity:1\" cx=\"319.85\" cy=\"1061.49\" r=\"18\"/>\n",
       "<circle clip-path=\"url(#clip0002)\" style=\"fill:#e26f46; stroke:none; fill-opacity:1\" cx=\"319.85\" cy=\"1061.49\" r=\"14\"/>\n",
       "<circle clip-path=\"url(#clip0002)\" style=\"fill:#000000; stroke:none; fill-opacity:1\" cx=\"340.593\" cy=\"998.668\" r=\"18\"/>\n",
       "<circle clip-path=\"url(#clip0002)\" style=\"fill:#e26f46; stroke:none; fill-opacity:1\" cx=\"340.593\" cy=\"998.668\" r=\"14\"/>\n",
       "<circle clip-path=\"url(#clip0002)\" style=\"fill:#000000; stroke:none; fill-opacity:1\" cx=\"361.337\" cy=\"939.897\" r=\"18\"/>\n",
       "<circle clip-path=\"url(#clip0002)\" style=\"fill:#e26f46; stroke:none; fill-opacity:1\" cx=\"361.337\" cy=\"939.897\" r=\"14\"/>\n",
       "<circle clip-path=\"url(#clip0002)\" style=\"fill:#000000; stroke:none; fill-opacity:1\" cx=\"382.081\" cy=\"884.912\" r=\"18\"/>\n",
       "<circle clip-path=\"url(#clip0002)\" style=\"fill:#e26f46; stroke:none; fill-opacity:1\" cx=\"382.081\" cy=\"884.912\" r=\"14\"/>\n",
       "<circle clip-path=\"url(#clip0002)\" style=\"fill:#000000; stroke:none; fill-opacity:1\" cx=\"402.825\" cy=\"833.468\" r=\"18\"/>\n",
       "<circle clip-path=\"url(#clip0002)\" style=\"fill:#e26f46; stroke:none; fill-opacity:1\" cx=\"402.825\" cy=\"833.468\" r=\"14\"/>\n",
       "<circle clip-path=\"url(#clip0002)\" style=\"fill:#000000; stroke:none; fill-opacity:1\" cx=\"423.569\" cy=\"785.338\" r=\"18\"/>\n",
       "<circle clip-path=\"url(#clip0002)\" style=\"fill:#e26f46; stroke:none; fill-opacity:1\" cx=\"423.569\" cy=\"785.338\" r=\"14\"/>\n",
       "<circle clip-path=\"url(#clip0002)\" style=\"fill:#000000; stroke:none; fill-opacity:1\" cx=\"444.313\" cy=\"740.309\" r=\"18\"/>\n",
       "<circle clip-path=\"url(#clip0002)\" style=\"fill:#e26f46; stroke:none; fill-opacity:1\" cx=\"444.313\" cy=\"740.309\" r=\"14\"/>\n",
       "<circle clip-path=\"url(#clip0002)\" style=\"fill:#000000; stroke:none; fill-opacity:1\" cx=\"465.057\" cy=\"698.179\" r=\"18\"/>\n",
       "<circle clip-path=\"url(#clip0002)\" style=\"fill:#e26f46; stroke:none; fill-opacity:1\" cx=\"465.057\" cy=\"698.179\" r=\"14\"/>\n",
       "<circle clip-path=\"url(#clip0002)\" style=\"fill:#000000; stroke:none; fill-opacity:1\" cx=\"485.801\" cy=\"658.764\" r=\"18\"/>\n",
       "<circle clip-path=\"url(#clip0002)\" style=\"fill:#e26f46; stroke:none; fill-opacity:1\" cx=\"485.801\" cy=\"658.764\" r=\"14\"/>\n",
       "<circle clip-path=\"url(#clip0002)\" style=\"fill:#000000; stroke:none; fill-opacity:1\" cx=\"506.545\" cy=\"621.887\" r=\"18\"/>\n",
       "<circle clip-path=\"url(#clip0002)\" style=\"fill:#e26f46; stroke:none; fill-opacity:1\" cx=\"506.545\" cy=\"621.887\" r=\"14\"/>\n",
       "<circle clip-path=\"url(#clip0002)\" style=\"fill:#000000; stroke:none; fill-opacity:1\" cx=\"527.289\" cy=\"587.386\" r=\"18\"/>\n",
       "<circle clip-path=\"url(#clip0002)\" style=\"fill:#e26f46; stroke:none; fill-opacity:1\" cx=\"527.289\" cy=\"587.386\" r=\"14\"/>\n",
       "<circle clip-path=\"url(#clip0002)\" style=\"fill:#000000; stroke:none; fill-opacity:1\" cx=\"548.033\" cy=\"555.107\" r=\"18\"/>\n",
       "<circle clip-path=\"url(#clip0002)\" style=\"fill:#e26f46; stroke:none; fill-opacity:1\" cx=\"548.033\" cy=\"555.107\" r=\"14\"/>\n",
       "<circle clip-path=\"url(#clip0002)\" style=\"fill:#000000; stroke:none; fill-opacity:1\" cx=\"568.777\" cy=\"524.907\" r=\"18\"/>\n",
       "<circle clip-path=\"url(#clip0002)\" style=\"fill:#e26f46; stroke:none; fill-opacity:1\" cx=\"568.777\" cy=\"524.907\" r=\"14\"/>\n",
       "<circle clip-path=\"url(#clip0002)\" style=\"fill:#000000; stroke:none; fill-opacity:1\" cx=\"589.521\" cy=\"496.653\" r=\"18\"/>\n",
       "<circle clip-path=\"url(#clip0002)\" style=\"fill:#e26f46; stroke:none; fill-opacity:1\" cx=\"589.521\" cy=\"496.653\" r=\"14\"/>\n",
       "<circle clip-path=\"url(#clip0002)\" style=\"fill:#000000; stroke:none; fill-opacity:1\" cx=\"610.265\" cy=\"470.218\" r=\"18\"/>\n",
       "<circle clip-path=\"url(#clip0002)\" style=\"fill:#e26f46; stroke:none; fill-opacity:1\" cx=\"610.265\" cy=\"470.218\" r=\"14\"/>\n",
       "<circle clip-path=\"url(#clip0002)\" style=\"fill:#000000; stroke:none; fill-opacity:1\" cx=\"631.009\" cy=\"445.486\" r=\"18\"/>\n",
       "<circle clip-path=\"url(#clip0002)\" style=\"fill:#e26f46; stroke:none; fill-opacity:1\" cx=\"631.009\" cy=\"445.486\" r=\"14\"/>\n",
       "<circle clip-path=\"url(#clip0002)\" style=\"fill:#000000; stroke:none; fill-opacity:1\" cx=\"651.753\" cy=\"422.347\" r=\"18\"/>\n",
       "<circle clip-path=\"url(#clip0002)\" style=\"fill:#e26f46; stroke:none; fill-opacity:1\" cx=\"651.753\" cy=\"422.347\" r=\"14\"/>\n",
       "<circle clip-path=\"url(#clip0002)\" style=\"fill:#000000; stroke:none; fill-opacity:1\" cx=\"672.497\" cy=\"400.699\" r=\"18\"/>\n",
       "<circle clip-path=\"url(#clip0002)\" style=\"fill:#e26f46; stroke:none; fill-opacity:1\" cx=\"672.497\" cy=\"400.699\" r=\"14\"/>\n",
       "<circle clip-path=\"url(#clip0002)\" style=\"fill:#000000; stroke:none; fill-opacity:1\" cx=\"693.24\" cy=\"380.445\" r=\"18\"/>\n",
       "<circle clip-path=\"url(#clip0002)\" style=\"fill:#e26f46; stroke:none; fill-opacity:1\" cx=\"693.24\" cy=\"380.445\" r=\"14\"/>\n",
       "<circle clip-path=\"url(#clip0002)\" style=\"fill:#000000; stroke:none; fill-opacity:1\" cx=\"713.984\" cy=\"361.496\" r=\"18\"/>\n",
       "<circle clip-path=\"url(#clip0002)\" style=\"fill:#e26f46; stroke:none; fill-opacity:1\" cx=\"713.984\" cy=\"361.496\" r=\"14\"/>\n",
       "<circle clip-path=\"url(#clip0002)\" style=\"fill:#000000; stroke:none; fill-opacity:1\" cx=\"734.728\" cy=\"343.767\" r=\"18\"/>\n",
       "<circle clip-path=\"url(#clip0002)\" style=\"fill:#e26f46; stroke:none; fill-opacity:1\" cx=\"734.728\" cy=\"343.767\" r=\"14\"/>\n",
       "<circle clip-path=\"url(#clip0002)\" style=\"fill:#000000; stroke:none; fill-opacity:1\" cx=\"755.472\" cy=\"327.18\" r=\"18\"/>\n",
       "<circle clip-path=\"url(#clip0002)\" style=\"fill:#e26f46; stroke:none; fill-opacity:1\" cx=\"755.472\" cy=\"327.18\" r=\"14\"/>\n",
       "<circle clip-path=\"url(#clip0002)\" style=\"fill:#000000; stroke:none; fill-opacity:1\" cx=\"776.216\" cy=\"311.662\" r=\"18\"/>\n",
       "<circle clip-path=\"url(#clip0002)\" style=\"fill:#e26f46; stroke:none; fill-opacity:1\" cx=\"776.216\" cy=\"311.662\" r=\"14\"/>\n",
       "<circle clip-path=\"url(#clip0002)\" style=\"fill:#000000; stroke:none; fill-opacity:1\" cx=\"796.96\" cy=\"297.143\" r=\"18\"/>\n",
       "<circle clip-path=\"url(#clip0002)\" style=\"fill:#e26f46; stroke:none; fill-opacity:1\" cx=\"796.96\" cy=\"297.143\" r=\"14\"/>\n",
       "<circle clip-path=\"url(#clip0002)\" style=\"fill:#000000; stroke:none; fill-opacity:1\" cx=\"817.704\" cy=\"283.559\" r=\"18\"/>\n",
       "<circle clip-path=\"url(#clip0002)\" style=\"fill:#e26f46; stroke:none; fill-opacity:1\" cx=\"817.704\" cy=\"283.559\" r=\"14\"/>\n",
       "<circle clip-path=\"url(#clip0002)\" style=\"fill:#000000; stroke:none; fill-opacity:1\" cx=\"838.448\" cy=\"270.851\" r=\"18\"/>\n",
       "<circle clip-path=\"url(#clip0002)\" style=\"fill:#e26f46; stroke:none; fill-opacity:1\" cx=\"838.448\" cy=\"270.851\" r=\"14\"/>\n",
       "<circle clip-path=\"url(#clip0002)\" style=\"fill:#000000; stroke:none; fill-opacity:1\" cx=\"859.192\" cy=\"258.961\" r=\"18\"/>\n",
       "<circle clip-path=\"url(#clip0002)\" style=\"fill:#e26f46; stroke:none; fill-opacity:1\" cx=\"859.192\" cy=\"258.961\" r=\"14\"/>\n",
       "<circle clip-path=\"url(#clip0002)\" style=\"fill:#000000; stroke:none; fill-opacity:1\" cx=\"879.936\" cy=\"247.836\" r=\"18\"/>\n",
       "<circle clip-path=\"url(#clip0002)\" style=\"fill:#e26f46; stroke:none; fill-opacity:1\" cx=\"879.936\" cy=\"247.836\" r=\"14\"/>\n",
       "<circle clip-path=\"url(#clip0002)\" style=\"fill:#000000; stroke:none; fill-opacity:1\" cx=\"900.68\" cy=\"237.429\" r=\"18\"/>\n",
       "<circle clip-path=\"url(#clip0002)\" style=\"fill:#e26f46; stroke:none; fill-opacity:1\" cx=\"900.68\" cy=\"237.429\" r=\"14\"/>\n",
       "<circle clip-path=\"url(#clip0002)\" style=\"fill:#000000; stroke:none; fill-opacity:1\" cx=\"921.424\" cy=\"227.691\" r=\"18\"/>\n",
       "<circle clip-path=\"url(#clip0002)\" style=\"fill:#e26f46; stroke:none; fill-opacity:1\" cx=\"921.424\" cy=\"227.691\" r=\"14\"/>\n",
       "<circle clip-path=\"url(#clip0002)\" style=\"fill:#000000; stroke:none; fill-opacity:1\" cx=\"942.168\" cy=\"218.582\" r=\"18\"/>\n",
       "<circle clip-path=\"url(#clip0002)\" style=\"fill:#e26f46; stroke:none; fill-opacity:1\" cx=\"942.168\" cy=\"218.582\" r=\"14\"/>\n",
       "<circle clip-path=\"url(#clip0002)\" style=\"fill:#000000; stroke:none; fill-opacity:1\" cx=\"962.912\" cy=\"210.058\" r=\"18\"/>\n",
       "<circle clip-path=\"url(#clip0002)\" style=\"fill:#e26f46; stroke:none; fill-opacity:1\" cx=\"962.912\" cy=\"210.058\" r=\"14\"/>\n",
       "<circle clip-path=\"url(#clip0002)\" style=\"fill:#000000; stroke:none; fill-opacity:1\" cx=\"983.656\" cy=\"202.084\" r=\"18\"/>\n",
       "<circle clip-path=\"url(#clip0002)\" style=\"fill:#e26f46; stroke:none; fill-opacity:1\" cx=\"983.656\" cy=\"202.084\" r=\"14\"/>\n",
       "<circle clip-path=\"url(#clip0002)\" style=\"fill:#000000; stroke:none; fill-opacity:1\" cx=\"1004.4\" cy=\"194.623\" r=\"18\"/>\n",
       "<circle clip-path=\"url(#clip0002)\" style=\"fill:#e26f46; stroke:none; fill-opacity:1\" cx=\"1004.4\" cy=\"194.623\" r=\"14\"/>\n",
       "<circle clip-path=\"url(#clip0002)\" style=\"fill:#000000; stroke:none; fill-opacity:1\" cx=\"1025.14\" cy=\"187.643\" r=\"18\"/>\n",
       "<circle clip-path=\"url(#clip0002)\" style=\"fill:#e26f46; stroke:none; fill-opacity:1\" cx=\"1025.14\" cy=\"187.643\" r=\"14\"/>\n",
       "<circle clip-path=\"url(#clip0002)\" style=\"fill:#000000; stroke:none; fill-opacity:1\" cx=\"1045.89\" cy=\"181.113\" r=\"18\"/>\n",
       "<circle clip-path=\"url(#clip0002)\" style=\"fill:#e26f46; stroke:none; fill-opacity:1\" cx=\"1045.89\" cy=\"181.113\" r=\"14\"/>\n",
       "<circle clip-path=\"url(#clip0002)\" style=\"fill:#000000; stroke:none; fill-opacity:1\" cx=\"1066.63\" cy=\"175.003\" r=\"18\"/>\n",
       "<circle clip-path=\"url(#clip0002)\" style=\"fill:#e26f46; stroke:none; fill-opacity:1\" cx=\"1066.63\" cy=\"175.003\" r=\"14\"/>\n",
       "<circle clip-path=\"url(#clip0002)\" style=\"fill:#000000; stroke:none; fill-opacity:1\" cx=\"1087.38\" cy=\"169.287\" r=\"18\"/>\n",
       "<circle clip-path=\"url(#clip0002)\" style=\"fill:#e26f46; stroke:none; fill-opacity:1\" cx=\"1087.38\" cy=\"169.287\" r=\"14\"/>\n",
       "<circle clip-path=\"url(#clip0002)\" style=\"fill:#000000; stroke:none; fill-opacity:1\" cx=\"1108.12\" cy=\"163.939\" r=\"18\"/>\n",
       "<circle clip-path=\"url(#clip0002)\" style=\"fill:#e26f46; stroke:none; fill-opacity:1\" cx=\"1108.12\" cy=\"163.939\" r=\"14\"/>\n",
       "<circle clip-path=\"url(#clip0002)\" style=\"fill:#000000; stroke:none; fill-opacity:1\" cx=\"1128.86\" cy=\"158.935\" r=\"18\"/>\n",
       "<circle clip-path=\"url(#clip0002)\" style=\"fill:#e26f46; stroke:none; fill-opacity:1\" cx=\"1128.86\" cy=\"158.935\" r=\"14\"/>\n",
       "<circle clip-path=\"url(#clip0002)\" style=\"fill:#000000; stroke:none; fill-opacity:1\" cx=\"1149.61\" cy=\"154.254\" r=\"18\"/>\n",
       "<circle clip-path=\"url(#clip0002)\" style=\"fill:#e26f46; stroke:none; fill-opacity:1\" cx=\"1149.61\" cy=\"154.254\" r=\"14\"/>\n",
       "<circle clip-path=\"url(#clip0002)\" style=\"fill:#000000; stroke:none; fill-opacity:1\" cx=\"1170.35\" cy=\"149.874\" r=\"18\"/>\n",
       "<circle clip-path=\"url(#clip0002)\" style=\"fill:#e26f46; stroke:none; fill-opacity:1\" cx=\"1170.35\" cy=\"149.874\" r=\"14\"/>\n",
       "<circle clip-path=\"url(#clip0002)\" style=\"fill:#000000; stroke:none; fill-opacity:1\" cx=\"1191.1\" cy=\"145.776\" r=\"18\"/>\n",
       "<circle clip-path=\"url(#clip0002)\" style=\"fill:#e26f46; stroke:none; fill-opacity:1\" cx=\"1191.1\" cy=\"145.776\" r=\"14\"/>\n",
       "<circle clip-path=\"url(#clip0002)\" style=\"fill:#000000; stroke:none; fill-opacity:1\" cx=\"1211.84\" cy=\"141.942\" r=\"18\"/>\n",
       "<circle clip-path=\"url(#clip0002)\" style=\"fill:#e26f46; stroke:none; fill-opacity:1\" cx=\"1211.84\" cy=\"141.942\" r=\"14\"/>\n",
       "<circle clip-path=\"url(#clip0002)\" style=\"fill:#000000; stroke:none; fill-opacity:1\" cx=\"1232.58\" cy=\"138.356\" r=\"18\"/>\n",
       "<circle clip-path=\"url(#clip0002)\" style=\"fill:#e26f46; stroke:none; fill-opacity:1\" cx=\"1232.58\" cy=\"138.356\" r=\"14\"/>\n",
       "<circle clip-path=\"url(#clip0002)\" style=\"fill:#000000; stroke:none; fill-opacity:1\" cx=\"1253.33\" cy=\"135\" r=\"18\"/>\n",
       "<circle clip-path=\"url(#clip0002)\" style=\"fill:#e26f46; stroke:none; fill-opacity:1\" cx=\"1253.33\" cy=\"135\" r=\"14\"/>\n",
       "<circle clip-path=\"url(#clip0002)\" style=\"fill:#000000; stroke:none; fill-opacity:1\" cx=\"1274.07\" cy=\"131.861\" r=\"18\"/>\n",
       "<circle clip-path=\"url(#clip0002)\" style=\"fill:#e26f46; stroke:none; fill-opacity:1\" cx=\"1274.07\" cy=\"131.861\" r=\"14\"/>\n",
       "<circle clip-path=\"url(#clip0002)\" style=\"fill:#000000; stroke:none; fill-opacity:1\" cx=\"1294.81\" cy=\"128.923\" r=\"18\"/>\n",
       "<circle clip-path=\"url(#clip0002)\" style=\"fill:#e26f46; stroke:none; fill-opacity:1\" cx=\"1294.81\" cy=\"128.923\" r=\"14\"/>\n",
       "<circle clip-path=\"url(#clip0002)\" style=\"fill:#000000; stroke:none; fill-opacity:1\" cx=\"1315.56\" cy=\"126.175\" r=\"18\"/>\n",
       "<circle clip-path=\"url(#clip0002)\" style=\"fill:#e26f46; stroke:none; fill-opacity:1\" cx=\"1315.56\" cy=\"126.175\" r=\"14\"/>\n",
       "<circle clip-path=\"url(#clip0002)\" style=\"fill:#000000; stroke:none; fill-opacity:1\" cx=\"1336.3\" cy=\"123.604\" r=\"18\"/>\n",
       "<circle clip-path=\"url(#clip0002)\" style=\"fill:#e26f46; stroke:none; fill-opacity:1\" cx=\"1336.3\" cy=\"123.604\" r=\"14\"/>\n",
       "<circle clip-path=\"url(#clip0002)\" style=\"fill:#000000; stroke:none; fill-opacity:1\" cx=\"1357.05\" cy=\"121.198\" r=\"18\"/>\n",
       "<circle clip-path=\"url(#clip0002)\" style=\"fill:#e26f46; stroke:none; fill-opacity:1\" cx=\"1357.05\" cy=\"121.198\" r=\"14\"/>\n",
       "<circle clip-path=\"url(#clip0002)\" style=\"fill:#000000; stroke:none; fill-opacity:1\" cx=\"1377.79\" cy=\"118.948\" r=\"18\"/>\n",
       "<circle clip-path=\"url(#clip0002)\" style=\"fill:#e26f46; stroke:none; fill-opacity:1\" cx=\"1377.79\" cy=\"118.948\" r=\"14\"/>\n",
       "<circle clip-path=\"url(#clip0002)\" style=\"fill:#000000; stroke:none; fill-opacity:1\" cx=\"1398.53\" cy=\"116.843\" r=\"18\"/>\n",
       "<circle clip-path=\"url(#clip0002)\" style=\"fill:#e26f46; stroke:none; fill-opacity:1\" cx=\"1398.53\" cy=\"116.843\" r=\"14\"/>\n",
       "<circle clip-path=\"url(#clip0002)\" style=\"fill:#000000; stroke:none; fill-opacity:1\" cx=\"1419.28\" cy=\"114.873\" r=\"18\"/>\n",
       "<circle clip-path=\"url(#clip0002)\" style=\"fill:#e26f46; stroke:none; fill-opacity:1\" cx=\"1419.28\" cy=\"114.873\" r=\"14\"/>\n",
       "<circle clip-path=\"url(#clip0002)\" style=\"fill:#000000; stroke:none; fill-opacity:1\" cx=\"1440.02\" cy=\"113.03\" r=\"18\"/>\n",
       "<circle clip-path=\"url(#clip0002)\" style=\"fill:#e26f46; stroke:none; fill-opacity:1\" cx=\"1440.02\" cy=\"113.03\" r=\"14\"/>\n",
       "<circle clip-path=\"url(#clip0002)\" style=\"fill:#000000; stroke:none; fill-opacity:1\" cx=\"1460.77\" cy=\"111.305\" r=\"18\"/>\n",
       "<circle clip-path=\"url(#clip0002)\" style=\"fill:#e26f46; stroke:none; fill-opacity:1\" cx=\"1460.77\" cy=\"111.305\" r=\"14\"/>\n",
       "<circle clip-path=\"url(#clip0002)\" style=\"fill:#000000; stroke:none; fill-opacity:1\" cx=\"1481.51\" cy=\"109.692\" r=\"18\"/>\n",
       "<circle clip-path=\"url(#clip0002)\" style=\"fill:#e26f46; stroke:none; fill-opacity:1\" cx=\"1481.51\" cy=\"109.692\" r=\"14\"/>\n",
       "<circle clip-path=\"url(#clip0002)\" style=\"fill:#000000; stroke:none; fill-opacity:1\" cx=\"1502.25\" cy=\"108.182\" r=\"18\"/>\n",
       "<circle clip-path=\"url(#clip0002)\" style=\"fill:#e26f46; stroke:none; fill-opacity:1\" cx=\"1502.25\" cy=\"108.182\" r=\"14\"/>\n",
       "<circle clip-path=\"url(#clip0002)\" style=\"fill:#000000; stroke:none; fill-opacity:1\" cx=\"1523\" cy=\"106.77\" r=\"18\"/>\n",
       "<circle clip-path=\"url(#clip0002)\" style=\"fill:#e26f46; stroke:none; fill-opacity:1\" cx=\"1523\" cy=\"106.77\" r=\"14\"/>\n",
       "<circle clip-path=\"url(#clip0002)\" style=\"fill:#000000; stroke:none; fill-opacity:1\" cx=\"1543.74\" cy=\"105.449\" r=\"18\"/>\n",
       "<circle clip-path=\"url(#clip0002)\" style=\"fill:#e26f46; stroke:none; fill-opacity:1\" cx=\"1543.74\" cy=\"105.449\" r=\"14\"/>\n",
       "<circle clip-path=\"url(#clip0002)\" style=\"fill:#000000; stroke:none; fill-opacity:1\" cx=\"1564.49\" cy=\"104.213\" r=\"18\"/>\n",
       "<circle clip-path=\"url(#clip0002)\" style=\"fill:#e26f46; stroke:none; fill-opacity:1\" cx=\"1564.49\" cy=\"104.213\" r=\"14\"/>\n",
       "<circle clip-path=\"url(#clip0002)\" style=\"fill:#000000; stroke:none; fill-opacity:1\" cx=\"1585.23\" cy=\"103.057\" r=\"18\"/>\n",
       "<circle clip-path=\"url(#clip0002)\" style=\"fill:#e26f46; stroke:none; fill-opacity:1\" cx=\"1585.23\" cy=\"103.057\" r=\"14\"/>\n",
       "<circle clip-path=\"url(#clip0002)\" style=\"fill:#000000; stroke:none; fill-opacity:1\" cx=\"1605.97\" cy=\"101.975\" r=\"18\"/>\n",
       "<circle clip-path=\"url(#clip0002)\" style=\"fill:#e26f46; stroke:none; fill-opacity:1\" cx=\"1605.97\" cy=\"101.975\" r=\"14\"/>\n",
       "<circle clip-path=\"url(#clip0002)\" style=\"fill:#000000; stroke:none; fill-opacity:1\" cx=\"1626.72\" cy=\"100.963\" r=\"18\"/>\n",
       "<circle clip-path=\"url(#clip0002)\" style=\"fill:#e26f46; stroke:none; fill-opacity:1\" cx=\"1626.72\" cy=\"100.963\" r=\"14\"/>\n",
       "<circle clip-path=\"url(#clip0002)\" style=\"fill:#000000; stroke:none; fill-opacity:1\" cx=\"1647.46\" cy=\"100.016\" r=\"18\"/>\n",
       "<circle clip-path=\"url(#clip0002)\" style=\"fill:#e26f46; stroke:none; fill-opacity:1\" cx=\"1647.46\" cy=\"100.016\" r=\"14\"/>\n",
       "<circle clip-path=\"url(#clip0002)\" style=\"fill:#000000; stroke:none; fill-opacity:1\" cx=\"1668.21\" cy=\"99.1296\" r=\"18\"/>\n",
       "<circle clip-path=\"url(#clip0002)\" style=\"fill:#e26f46; stroke:none; fill-opacity:1\" cx=\"1668.21\" cy=\"99.1296\" r=\"14\"/>\n",
       "<circle clip-path=\"url(#clip0002)\" style=\"fill:#000000; stroke:none; fill-opacity:1\" cx=\"1688.95\" cy=\"98.3006\" r=\"18\"/>\n",
       "<circle clip-path=\"url(#clip0002)\" style=\"fill:#e26f46; stroke:none; fill-opacity:1\" cx=\"1688.95\" cy=\"98.3006\" r=\"14\"/>\n",
       "<circle clip-path=\"url(#clip0002)\" style=\"fill:#000000; stroke:none; fill-opacity:1\" cx=\"1709.69\" cy=\"97.5249\" r=\"18\"/>\n",
       "<circle clip-path=\"url(#clip0002)\" style=\"fill:#e26f46; stroke:none; fill-opacity:1\" cx=\"1709.69\" cy=\"97.5249\" r=\"14\"/>\n",
       "<circle clip-path=\"url(#clip0002)\" style=\"fill:#000000; stroke:none; fill-opacity:1\" cx=\"1730.44\" cy=\"96.7992\" r=\"18\"/>\n",
       "<circle clip-path=\"url(#clip0002)\" style=\"fill:#e26f46; stroke:none; fill-opacity:1\" cx=\"1730.44\" cy=\"96.7992\" r=\"14\"/>\n",
       "<circle clip-path=\"url(#clip0002)\" style=\"fill:#000000; stroke:none; fill-opacity:1\" cx=\"1751.18\" cy=\"96.1204\" r=\"18\"/>\n",
       "<circle clip-path=\"url(#clip0002)\" style=\"fill:#e26f46; stroke:none; fill-opacity:1\" cx=\"1751.18\" cy=\"96.1204\" r=\"14\"/>\n",
       "<circle clip-path=\"url(#clip0002)\" style=\"fill:#000000; stroke:none; fill-opacity:1\" cx=\"1771.93\" cy=\"95.4852\" r=\"18\"/>\n",
       "<circle clip-path=\"url(#clip0002)\" style=\"fill:#e26f46; stroke:none; fill-opacity:1\" cx=\"1771.93\" cy=\"95.4852\" r=\"14\"/>\n",
       "<circle clip-path=\"url(#clip0002)\" style=\"fill:#000000; stroke:none; fill-opacity:1\" cx=\"1792.67\" cy=\"94.891\" r=\"18\"/>\n",
       "<circle clip-path=\"url(#clip0002)\" style=\"fill:#e26f46; stroke:none; fill-opacity:1\" cx=\"1792.67\" cy=\"94.891\" r=\"14\"/>\n",
       "<circle clip-path=\"url(#clip0002)\" style=\"fill:#000000; stroke:none; fill-opacity:1\" cx=\"1813.41\" cy=\"94.3347\" r=\"18\"/>\n",
       "<circle clip-path=\"url(#clip0002)\" style=\"fill:#e26f46; stroke:none; fill-opacity:1\" cx=\"1813.41\" cy=\"94.3347\" r=\"14\"/>\n",
       "<circle clip-path=\"url(#clip0002)\" style=\"fill:#000000; stroke:none; fill-opacity:1\" cx=\"1834.16\" cy=\"93.8144\" r=\"18\"/>\n",
       "<circle clip-path=\"url(#clip0002)\" style=\"fill:#e26f46; stroke:none; fill-opacity:1\" cx=\"1834.16\" cy=\"93.8144\" r=\"14\"/>\n",
       "<circle clip-path=\"url(#clip0002)\" style=\"fill:#000000; stroke:none; fill-opacity:1\" cx=\"1854.9\" cy=\"93.3277\" r=\"18\"/>\n",
       "<circle clip-path=\"url(#clip0002)\" style=\"fill:#e26f46; stroke:none; fill-opacity:1\" cx=\"1854.9\" cy=\"93.3277\" r=\"14\"/>\n",
       "<circle clip-path=\"url(#clip0002)\" style=\"fill:#000000; stroke:none; fill-opacity:1\" cx=\"1875.65\" cy=\"92.8722\" r=\"18\"/>\n",
       "<circle clip-path=\"url(#clip0002)\" style=\"fill:#e26f46; stroke:none; fill-opacity:1\" cx=\"1875.65\" cy=\"92.8722\" r=\"14\"/>\n",
       "<circle clip-path=\"url(#clip0002)\" style=\"fill:#000000; stroke:none; fill-opacity:1\" cx=\"1896.39\" cy=\"92.4463\" r=\"18\"/>\n",
       "<circle clip-path=\"url(#clip0002)\" style=\"fill:#e26f46; stroke:none; fill-opacity:1\" cx=\"1896.39\" cy=\"92.4463\" r=\"14\"/>\n",
       "<circle clip-path=\"url(#clip0002)\" style=\"fill:#000000; stroke:none; fill-opacity:1\" cx=\"1917.13\" cy=\"92.0476\" r=\"18\"/>\n",
       "<circle clip-path=\"url(#clip0002)\" style=\"fill:#e26f46; stroke:none; fill-opacity:1\" cx=\"1917.13\" cy=\"92.0476\" r=\"14\"/>\n",
       "<circle clip-path=\"url(#clip0002)\" style=\"fill:#000000; stroke:none; fill-opacity:1\" cx=\"1937.88\" cy=\"91.6746\" r=\"18\"/>\n",
       "<circle clip-path=\"url(#clip0002)\" style=\"fill:#e26f46; stroke:none; fill-opacity:1\" cx=\"1937.88\" cy=\"91.6746\" r=\"14\"/>\n",
       "<circle clip-path=\"url(#clip0002)\" style=\"fill:#000000; stroke:none; fill-opacity:1\" cx=\"1958.62\" cy=\"91.3257\" r=\"18\"/>\n",
       "<circle clip-path=\"url(#clip0002)\" style=\"fill:#e26f46; stroke:none; fill-opacity:1\" cx=\"1958.62\" cy=\"91.3257\" r=\"14\"/>\n",
       "<circle clip-path=\"url(#clip0002)\" style=\"fill:#000000; stroke:none; fill-opacity:1\" cx=\"1979.36\" cy=\"90.9995\" r=\"18\"/>\n",
       "<circle clip-path=\"url(#clip0002)\" style=\"fill:#e26f46; stroke:none; fill-opacity:1\" cx=\"1979.36\" cy=\"90.9995\" r=\"14\"/>\n",
       "<circle clip-path=\"url(#clip0002)\" style=\"fill:#000000; stroke:none; fill-opacity:1\" cx=\"2000.11\" cy=\"90.6941\" r=\"18\"/>\n",
       "<circle clip-path=\"url(#clip0002)\" style=\"fill:#e26f46; stroke:none; fill-opacity:1\" cx=\"2000.11\" cy=\"90.6941\" r=\"14\"/>\n",
       "<circle clip-path=\"url(#clip0002)\" style=\"fill:#000000; stroke:none; fill-opacity:1\" cx=\"2020.85\" cy=\"90.4084\" r=\"18\"/>\n",
       "<circle clip-path=\"url(#clip0002)\" style=\"fill:#e26f46; stroke:none; fill-opacity:1\" cx=\"2020.85\" cy=\"90.4084\" r=\"14\"/>\n",
       "<circle clip-path=\"url(#clip0002)\" style=\"fill:#000000; stroke:none; fill-opacity:1\" cx=\"2041.6\" cy=\"90.1412\" r=\"18\"/>\n",
       "<circle clip-path=\"url(#clip0002)\" style=\"fill:#e26f46; stroke:none; fill-opacity:1\" cx=\"2041.6\" cy=\"90.1412\" r=\"14\"/>\n",
       "<circle clip-path=\"url(#clip0002)\" style=\"fill:#000000; stroke:none; fill-opacity:1\" cx=\"2062.34\" cy=\"89.8912\" r=\"18\"/>\n",
       "<circle clip-path=\"url(#clip0002)\" style=\"fill:#e26f46; stroke:none; fill-opacity:1\" cx=\"2062.34\" cy=\"89.8912\" r=\"14\"/>\n",
       "<circle clip-path=\"url(#clip0002)\" style=\"fill:#000000; stroke:none; fill-opacity:1\" cx=\"2083.08\" cy=\"89.6571\" r=\"18\"/>\n",
       "<circle clip-path=\"url(#clip0002)\" style=\"fill:#e26f46; stroke:none; fill-opacity:1\" cx=\"2083.08\" cy=\"89.6571\" r=\"14\"/>\n",
       "<circle clip-path=\"url(#clip0002)\" style=\"fill:#000000; stroke:none; fill-opacity:1\" cx=\"2103.83\" cy=\"89.4381\" r=\"18\"/>\n",
       "<circle clip-path=\"url(#clip0002)\" style=\"fill:#e26f46; stroke:none; fill-opacity:1\" cx=\"2103.83\" cy=\"89.4381\" r=\"14\"/>\n",
       "<circle clip-path=\"url(#clip0002)\" style=\"fill:#000000; stroke:none; fill-opacity:1\" cx=\"2124.57\" cy=\"89.2333\" r=\"18\"/>\n",
       "<circle clip-path=\"url(#clip0002)\" style=\"fill:#e26f46; stroke:none; fill-opacity:1\" cx=\"2124.57\" cy=\"89.2333\" r=\"14\"/>\n",
       "<circle clip-path=\"url(#clip0002)\" style=\"fill:#000000; stroke:none; fill-opacity:1\" cx=\"2145.32\" cy=\"89.0417\" r=\"18\"/>\n",
       "<circle clip-path=\"url(#clip0002)\" style=\"fill:#e26f46; stroke:none; fill-opacity:1\" cx=\"2145.32\" cy=\"89.0417\" r=\"14\"/>\n",
       "<circle clip-path=\"url(#clip0002)\" style=\"fill:#000000; stroke:none; fill-opacity:1\" cx=\"2166.06\" cy=\"88.8625\" r=\"18\"/>\n",
       "<circle clip-path=\"url(#clip0002)\" style=\"fill:#e26f46; stroke:none; fill-opacity:1\" cx=\"2166.06\" cy=\"88.8625\" r=\"14\"/>\n",
       "<circle clip-path=\"url(#clip0002)\" style=\"fill:#000000; stroke:none; fill-opacity:1\" cx=\"2186.8\" cy=\"88.6949\" r=\"18\"/>\n",
       "<circle clip-path=\"url(#clip0002)\" style=\"fill:#e26f46; stroke:none; fill-opacity:1\" cx=\"2186.8\" cy=\"88.6949\" r=\"14\"/>\n",
       "<circle clip-path=\"url(#clip0002)\" style=\"fill:#000000; stroke:none; fill-opacity:1\" cx=\"2207.55\" cy=\"88.5379\" r=\"18\"/>\n",
       "<circle clip-path=\"url(#clip0002)\" style=\"fill:#e26f46; stroke:none; fill-opacity:1\" cx=\"2207.55\" cy=\"88.5379\" r=\"14\"/>\n",
       "<circle clip-path=\"url(#clip0002)\" style=\"fill:#000000; stroke:none; fill-opacity:1\" cx=\"2228.29\" cy=\"88.3911\" r=\"18\"/>\n",
       "<circle clip-path=\"url(#clip0002)\" style=\"fill:#e26f46; stroke:none; fill-opacity:1\" cx=\"2228.29\" cy=\"88.3911\" r=\"14\"/>\n",
       "<circle clip-path=\"url(#clip0002)\" style=\"fill:#000000; stroke:none; fill-opacity:1\" cx=\"2249.04\" cy=\"88.2535\" r=\"18\"/>\n",
       "<circle clip-path=\"url(#clip0002)\" style=\"fill:#e26f46; stroke:none; fill-opacity:1\" cx=\"2249.04\" cy=\"88.2535\" r=\"14\"/>\n",
       "<circle clip-path=\"url(#clip0002)\" style=\"fill:#000000; stroke:none; fill-opacity:1\" cx=\"2269.78\" cy=\"88.1252\" r=\"18\"/>\n",
       "<circle clip-path=\"url(#clip0002)\" style=\"fill:#e26f46; stroke:none; fill-opacity:1\" cx=\"2269.78\" cy=\"88.1252\" r=\"14\"/>\n",
       "<circle clip-path=\"url(#clip0002)\" style=\"fill:#000000; stroke:none; fill-opacity:1\" cx=\"2290.52\" cy=\"88.0053\" r=\"18\"/>\n",
       "<circle clip-path=\"url(#clip0002)\" style=\"fill:#e26f46; stroke:none; fill-opacity:1\" cx=\"2290.52\" cy=\"88.0053\" r=\"14\"/>\n",
       "<polygon clip-path=\"url(#clip0000)\" points=\"\n",
       "1832.1,312.204 2280.76,312.204 2280.76,130.764 1832.1,130.764 \n",
       "  \" fill=\"#ffffff\" fill-rule=\"evenodd\" fill-opacity=\"1\"/>\n",
       "<polyline clip-path=\"url(#clip0000)\" style=\"stroke:#000000; stroke-width:4; stroke-opacity:1; fill:none\" points=\"\n",
       "  1832.1,312.204 2280.76,312.204 2280.76,130.764 1832.1,130.764 1832.1,312.204 \n",
       "  \"/>\n",
       "<circle clip-path=\"url(#clip0000)\" style=\"fill:#000000; stroke:none; fill-opacity:1\" cx=\"1940.1\" cy=\"191.244\" r=\"25\"/>\n",
       "<circle clip-path=\"url(#clip0000)\" style=\"fill:#009af9; stroke:none; fill-opacity:1\" cx=\"1940.1\" cy=\"191.244\" r=\"21\"/>\n",
       "<g clip-path=\"url(#clip0000)\">\n",
       "<text style=\"fill:#000000; fill-opacity:1; font-family:Arial,Helvetica Neue,Helvetica,sans-serif; font-size:48px; text-anchor:start;\" transform=\"rotate(0, 2024.1, 208.744)\" x=\"2024.1\" y=\"208.744\">data</text>\n",
       "</g>\n",
       "<circle clip-path=\"url(#clip0000)\" style=\"fill:#000000; stroke:none; fill-opacity:1\" cx=\"1940.1\" cy=\"251.724\" r=\"25\"/>\n",
       "<circle clip-path=\"url(#clip0000)\" style=\"fill:#e26f46; stroke:none; fill-opacity:1\" cx=\"1940.1\" cy=\"251.724\" r=\"21\"/>\n",
       "<g clip-path=\"url(#clip0000)\">\n",
       "<text style=\"fill:#000000; fill-opacity:1; font-family:Arial,Helvetica Neue,Helvetica,sans-serif; font-size:48px; text-anchor:start;\" transform=\"rotate(0, 2024.1, 269.224)\" x=\"2024.1\" y=\"269.224\">prediction</text>\n",
       "</g>\n",
       "</svg>\n"
      ]
     },
     "execution_count": 47,
     "metadata": {},
     "output_type": "execute_result"
    }
   ],
   "source": [
    "using Plots\n",
    "\n",
    "pl = scatter(x, raw_data, label=\"data\")\n",
    "scatter!(pl, x, cur_pred[1,:], label=\"prediction\")"
   ]
  },
  {
   "cell_type": "code",
   "execution_count": null,
   "metadata": {},
   "outputs": [],
   "source": []
  }
 ],
 "metadata": {
  "kernelspec": {
   "display_name": "Julia 1.0.3",
   "language": "julia",
   "name": "julia-1.0"
  },
  "language_info": {
   "file_extension": ".jl",
   "mimetype": "application/julia",
   "name": "julia",
   "version": "1.0.3"
  }
 },
 "nbformat": 4,
 "nbformat_minor": 2
}
